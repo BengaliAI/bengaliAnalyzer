{
 "cells": [
  {
   "cell_type": "code",
   "execution_count": 5,
   "metadata": {},
   "outputs": [],
   "source": [
    "import pandas\n",
    "import os\n",
    "from bengalianalyzer import remove_symbols"
   ]
  },
  {
   "cell_type": "code",
   "execution_count": 8,
   "metadata": {},
   "outputs": [],
   "source": [
    "def generateWordListWithPoS():\n",
    "    word_list_data_path = os.path.join(\"./assets\", \"wordList.csv\")\n",
    "    data = pandas.read_csv(word_list_data_path)\n",
    "\n",
    "    generatedData = []\n",
    "    mapper=['bisessho', 'bisheshon', 'sorbonam', 'obboy', 'kriya',\n",
    "       'kbisesso', 'kbisheshon', 'kmul']\n",
    "\n",
    "    for row in data.values[:5]:\n",
    "        posList = []\n",
    "        posList.append(remove_symbols(row[0]))\n",
    "\n",
    "        for index, column in enumerate(row):\n",
    "            if((index >= 5 and index <= 12) and column == column):\n",
    "                posList.append(mapper[index-5])\n",
    "\n",
    "        generatedData.append(posList)\n",
    "        \n",
    "    return generatedData;"
   ]
  },
  {
   "cell_type": "code",
   "execution_count": null,
   "metadata": {},
   "outputs": [],
   "source": [
    "# Write to csv\n",
    "generatedArray = generateWordListWithPoS();\n",
    "dataframe = pandas.DataFrame(generatedArray)\n",
    "dataframe.to_csv('myfile.csv', header=None, index=None)"
   ]
  }
 ],
 "metadata": {
  "interpreter": {
   "hash": "31f2aee4e71d21fbe5cf8b01ff0e069b9275f58929596ceb00d14d90e3e16cd6"
  },
  "kernelspec": {
   "display_name": "Python 3.8.2 64-bit",
   "language": "python",
   "name": "python3"
  },
  "language_info": {
   "codemirror_mode": {
    "name": "ipython",
    "version": 3
   },
   "file_extension": ".py",
   "mimetype": "text/x-python",
   "name": "python",
   "nbconvert_exporter": "python",
   "pygments_lexer": "ipython3",
   "version": "3.8.2"
  },
  "orig_nbformat": 4
 },
 "nbformat": 4,
 "nbformat_minor": 2
}

{
 "cells": [
  {
   "cell_type": "code",
   "execution_count": 27,
   "metadata": {},
   "outputs": [],
   "source": [
    "import os\n",
    "import csv\n",
    "from bnunicodenormalizer import Normalizer\n"
   ]
  },
  {
   "cell_type": "code",
   "execution_count": 28,
   "metadata": {},
   "outputs": [],
   "source": [
    "def normalize_word(word):\n",
    "    bn_normalizer = Normalizer(allow_english=True)\n",
    "    normalized_token = bn_normalizer(word)\n",
    "\n",
    "    return normalized_token[\"normalized\"]\n",
    "\n",
    "\n",
    "def normalize_sentence(sentence):\n",
    "    words = sentence.strip().split(\" \")\n",
    "\n",
    "    sentence = \"\"\n",
    "\n",
    "    for word in words:\n",
    "        sentence += normalize_word(word) + \" \"\n",
    "\n",
    "    return sentence.strip()\n",
    "\n",
    "\n",
    "def normalize_csv(asset_path):\n",
    "    tmp_path = \"./tmp.csv\"\n",
    "\n",
    "    with open(asset_path, \"r\") as f:\n",
    "        reader = csv.reader(f, delimiter=\",\")\n",
    "\n",
    "        for i, row in enumerate(reader):\n",
    "            try:\n",
    "                tmp_row = []\n",
    "\n",
    "                for sentence in row:\n",
    "                    tmp_row.append(normalize_sentence(sentence))\n",
    "\n",
    "                # after normalizing the word the whole row is writing to a tmp file\n",
    "                with open(tmp_path, \"a\") as f:\n",
    "                    # create the csv writer\n",
    "                    writer = csv.writer(f)\n",
    "\n",
    "                    # write a row to the csv file\n",
    "                    writer.writerow(tmp_row)\n",
    "            except:\n",
    "                print(f\"Error in line {i} of file {asset_path}, output: \", row)\n",
    "\n",
    "    # Replacing the original file\n",
    "    os.replace(tmp_path, asset_path)\n"
   ]
  },
  {
   "cell_type": "code",
   "execution_count": 29,
   "metadata": {},
   "outputs": [],
   "source": [
    "asset_path = \"../assets/verbs2.csv\"\n",
    "\n",
    "normalize_csv(asset_path=asset_path)\n"
   ]
  }
 ],
 "metadata": {
  "interpreter": {
   "hash": "b47640ec1daf6351a50a2ef50da74bad4769d96980e20cb22b699ad5af89322f"
  },
  "kernelspec": {
   "display_name": "Python 3.8.9 ('venv': venv)",
   "language": "python",
   "name": "python3"
  },
  "language_info": {
   "codemirror_mode": {
    "name": "ipython",
    "version": 3
   },
   "file_extension": ".py",
   "mimetype": "text/x-python",
   "name": "python",
   "nbconvert_exporter": "python",
   "pygments_lexer": "ipython3",
   "version": "3.8.9"
  },
  "orig_nbformat": 4
 },
 "nbformat": 4,
 "nbformat_minor": 2
}

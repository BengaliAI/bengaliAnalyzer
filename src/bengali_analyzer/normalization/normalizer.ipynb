{
 "cells": [
  {
   "cell_type": "code",
   "execution_count": 101,
   "metadata": {},
   "outputs": [],
   "source": [
    "import os\n",
    "import json\n",
    "from bnunicodenormalizer import Normalizer\n"
   ]
  },
  {
   "cell_type": "code",
   "execution_count": 102,
   "metadata": {},
   "outputs": [],
   "source": [
    "def normalize_word(word):\n",
    "    bn_normalizer = Normalizer(allow_english=True)\n",
    "    normalized_token = bn_normalizer(word)\n",
    "\n",
    "    return normalized_token[\"normalized\"]\n",
    "\n",
    "\n",
    "def normalize_sentence(sentence):\n",
    "    words = sentence.strip().split(\" \")\n",
    "\n",
    "    sentence = \"\"\n",
    "\n",
    "    for word in words:\n",
    "        sentence += str(normalize_word(word)) + \" \"\n",
    "\n",
    "    return sentence.strip()\n",
    "\n",
    "\n",
    "# Only csv and txt handled here\n",
    "def normalize_file(asset_path):\n",
    "    supported_extension = [\".csv\", \".CSV\", \".txt\", \".TXT\"]\n",
    "    _, file_extension = os.path.splitext(asset_path)\n",
    "\n",
    "    if file_extension not in supported_extension:\n",
    "        raise NotImplementedError(\"Only .csv and .txt files are supported\")\n",
    "\n",
    "    tmp_path = \"./tmp.txt\"\n",
    "\n",
    "    with open(asset_path, \"r\") as f:\n",
    "        lines = sorted(f.readlines())\n",
    "\n",
    "        for i, line in enumerate(lines):\n",
    "            try:\n",
    "                line = normalize_sentence(line)\n",
    "\n",
    "                # after normalizing every line it is being written to tmp file\n",
    "                with open(tmp_path, \"a\") as f2:\n",
    "                    f2.writelines(line + \"\\n\")\n",
    "            except:\n",
    "                print(f\"Error in line {i} of file {asset_path}, output: \", line)\n",
    "\n",
    "    # Replacing the original file\n",
    "    os.replace(tmp_path, asset_path)\n",
    "\n",
    "\n",
    "def normalize_json(asset_path):\n",
    "    tmp_path = \"./tmp.json\"\n",
    "\n",
    "    with open(asset_path, \"r\") as f:\n",
    "        data = json.dumps(json.load(f), ensure_ascii=False)\n",
    "\n",
    "        data = normalize_sentence(data)\n",
    "        \n",
    "        # Writing to temporary json\n",
    "        with open(tmp_path, \"w\") as outfile:\n",
    "            outfile.write(data)\n",
    "\n",
    "    # Replacing the original file\n",
    "    os.replace(tmp_path, asset_path)\n",
    "\n"
   ]
  },
  {
   "cell_type": "code",
   "execution_count": 103,
   "metadata": {},
   "outputs": [],
   "source": [
    "asset_path = \"../assets/numerics.json\"\n",
    "\n",
    "normalize_json(asset_path=asset_path)\n"
   ]
  },
  {
   "cell_type": "code",
   "execution_count": 104,
   "metadata": {},
   "outputs": [],
   "source": [
    "# def normalize_csv(asset_path):\n",
    "#     tmp_path = \"./tmp.csv\"\n",
    "\n",
    "#     with open(asset_path, \"r\") as f:\n",
    "#         reader = csv.reader(f, delimiter=\",\")\n",
    "\n",
    "#         for i, row in enumerate(reader):\n",
    "#             try:\n",
    "#                 tmp_row = []\n",
    "\n",
    "#                 for sentence in row:\n",
    "#                     tmp_row.append(normalize_sentence(sentence))\n",
    "\n",
    "#                 # after normalizing the word the whole row is writing to a tmp file\n",
    "#                 with open(tmp_path, \"a\") as f:\n",
    "#                     # create the csv writer\n",
    "#                     writer = csv.writer(f)\n",
    "\n",
    "#                     # write a row to the csv file\n",
    "#                     writer.writerow(tmp_row)\n",
    "#             except:\n",
    "#                 print(f\"Error in line {i} of file {asset_path}, output: \", row)\n",
    "\n",
    "#     # Replacing the original file\n",
    "#     os.replace(tmp_path, asset_path)"
   ]
  }
 ],
 "metadata": {
  "interpreter": {
   "hash": "b47640ec1daf6351a50a2ef50da74bad4769d96980e20cb22b699ad5af89322f"
  },
  "kernelspec": {
   "display_name": "Python 3.8.9 ('venv': venv)",
   "language": "python",
   "name": "python3"
  },
  "language_info": {
   "codemirror_mode": {
    "name": "ipython",
    "version": 3
   },
   "file_extension": ".py",
   "mimetype": "text/x-python",
   "name": "python",
   "nbconvert_exporter": "python",
   "pygments_lexer": "ipython3",
   "version": "3.8.9"
  },
  "orig_nbformat": 4
 },
 "nbformat": 4,
 "nbformat_minor": 2
}

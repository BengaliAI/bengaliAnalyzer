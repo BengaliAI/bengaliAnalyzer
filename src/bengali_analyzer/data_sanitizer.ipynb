{
 "cells": [
  {
   "cell_type": "code",
   "execution_count": null,
   "metadata": {
    "collapsed": true,
    "pycharm": {
     "name": "#%%\n"
    }
   },
   "outputs": [],
   "source": [
    "import copy\n",
    "import os\n",
    "import string\n",
    "import pandas\n",
    "import json\n",
    "from bnunicodenormalizer import Normalizer\n",
    "\n",
    "def normalize_token(word):\n",
    "    bn_normalizer = Normalizer()\n",
    "    normalized_token = bn_normalizer(word)\n",
    "    return normalized_token['normalized']\n",
    "\n",
    "\n",
    "def sanitize_non_verb_data(data_file):\n",
    "    data = pandas.read_csv(\n",
    "        data_file, encoding=\"utf8\", header=None, names=[\"keys\", \"values\"]\n",
    "    )\n",
    "    data = data.drop_duplicates()\n",
    "    data.dropna(inplace=True)\n",
    "    data.reset_index(drop=True, inplace=True)\n",
    "    data_dict = {}\n",
    "\n",
    "    for idx in range(len(data)):\n",
    "        _key = normalize_token(data.iloc[idx, 0])\n",
    "        _value = normalize_token(data.iloc[idx, 1])\n",
    "        data_dict[_key] = _value\n",
    "    \n",
    "    \n",
    "\n",
    "def generate_special_entity(file):\n",
    "    a_file = open(file, encoding=\"utf8\")\n",
    "\n",
    "    file_contents = a_file.read()\n",
    "    dictionary = file_contents.splitlines()\n",
    "    a_file.close()\n",
    "    return dictionary"
   ]
  }
 ],
 "metadata": {
  "kernelspec": {
   "display_name": "Python 3",
   "language": "python",
   "name": "python3"
  },
  "language_info": {
   "codemirror_mode": {
    "name": "ipython",
    "version": 2
   },
   "file_extension": ".py",
   "mimetype": "text/x-python",
   "name": "python",
   "nbconvert_exporter": "python",
   "pygments_lexer": "ipython2",
   "version": "2.7.6"
  }
 },
 "nbformat": 4,
 "nbformat_minor": 0
}

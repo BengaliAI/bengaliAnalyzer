{
 "cells": [
  {
   "cell_type": "code",
   "execution_count": 1,
   "metadata": {
    "pycharm": {
     "name": "#%%\n"
    }
   },
   "outputs": [],
   "source": [
    "import json\n",
    "from src.bengali_analyzer.bengalianalyzer import *\n",
    "\n",
    "bengali_analyzer = BengaliAnalyzer()"
   ]
  },
  {
   "cell_type": "code",
   "execution_count": 2,
   "metadata": {
    "pycharm": {
     "name": "#%%\n"
    }
   },
   "outputs": [],
   "source": [
    "ENCODING = \"utf-8\"\n",
    "LOG_FILE_NAME = \"info.json\"\n",
    "LOG_FILE_LOCATION = \"./\" + LOG_FILE_NAME\n",
    "\n",
    "def serialize_sets(obj):\n",
    "    if isinstance(obj, set):\n",
    "        return list(obj)\n",
    "    return obj\n",
    "\n",
    "def updateLog(text):\n",
    "    with open(LOG_FILE_LOCATION, \"w\", encoding=ENCODING) as f:\n",
    "        json.dump(text, f, ensure_ascii=False, default=serialize_sets, indent=4)"
   ]
  },
  {
   "cell_type": "code",
   "execution_count": 30,
   "metadata": {
    "pycharm": {
     "name": "#%%\n"
    }
   },
   "outputs": [],
   "source": [
    "# sentence = 'থাকবে আউলাই শুনতে থাকবে আউলানো'\n",
    "# sentence = 'থাকবে আউলাই শুনতেই থাকবে আউলানো'\n",
    "# sentence = 'আমার কথা শুনতে শুনতে তুমি ঢাকায় থাকবে'\n",
    "# sentence = 'আমার কথা শুনতেই শুনতেই তুমি ঢাকায় থাকবেও দেও'\n",
    "# sentence = \"আমি ভাত খাবই\"\n",
    "# sentence = \"আমি শুনতেই থাকবই\"\n",
    "# sentence = \"ঘুড়ি ওড়াই\"\n",
    "# sentence = \"বড় দাদা ঘুড়ি উড়াই\"\n",
    "\n",
    "# sentence = \"জামালকে জামাল গঘরজামাই\"\n",
    "\n",
    "# sentence = \"শুনতে থাকবে\"\n",
    "\n",
    "# sentence = \"বঙ্গবন্ধু শেখ মুজিব মেডিকেল কলেজ\"\n",
    "\n",
    "sentence = \"তেতাল্লিশহাজার            \"\n",
    "\n",
    "res = bengali_analyzer.analyze_sentence(sentence)\n",
    "updateLog(res)\n",
    "#res"
   ]
  },
  {
   "cell_type": "code",
   "execution_count": 31,
   "metadata": {
    "pycharm": {
     "name": "#%%\n"
    }
   },
   "outputs": [
    {
     "data": {
      "text/plain": "{'তেতাল্লিশহাজার': {'Global_Index': [(0, 13)],\n  'Punctuation_Flag': False,\n  'Numeric': {'Digit': None,\n   'Literal': 'তেতাল্লিশ',\n   'Weight': 'হাজার',\n   'Suffix': []},\n  'Verb': {'Parent_Verb': None,\n   'Tense_Person_Emphasis': None,\n   'Tense': None,\n   'Person': None,\n   'Emphasis': None,\n   'Form': None,\n   'Related_Indices': []},\n  'Pronoun': None,\n  'PoS': None,\n  'Composite_Word': {'Suffix': None,\n   'Prefix': None,\n   'Stand_Alone_Words': set()},\n  'Special_Entity': {'Definition': None, 'Related_Indices': []}}}"
     },
     "execution_count": 31,
     "metadata": {},
     "output_type": "execute_result"
    }
   ],
   "source": [
    "res\n"
   ]
  },
  {
   "cell_type": "code",
   "execution_count": 5,
   "outputs": [
    {
     "name": "stdout",
     "output_type": "stream",
     "text": [
      "Non-norm:ফেব্রুয়ারি; Norm:ফেররুয়ারি\n",
      "--------------------------------------------------\n",
      "{'given': 'ফেব্রুয়ারি',\n",
      " 'normalized': 'ফেররুয়ারি',\n",
      " 'ops': [{'after': 'ফের্রুয়ারি',\n",
      "          'before': 'ফেব্রুয়ারি',\n",
      "          'operation': 'BrokenNukta'},\n",
      "         {'after': 'ফেররুয়ারি',\n",
      "          'before': 'ফের্রুয়ারি',\n",
      "          'operation': 'ComplexRootNormalization'}]}\n"
     ]
    }
   ],
   "source": [
    "# import\n",
    "from bnunicodenormalizer import Normalizer\n",
    "from pprint import pprint\n",
    "# initialize\n",
    "bnorm=Normalizer()\n",
    "# normalize\n",
    "word = 'ফেব্রুয়ারি'\n",
    "\n",
    "result=bnorm(word)\n",
    "print(f\"Non-norm:{word}; Norm:{result['normalized']}\")\n",
    "print(\"--------------------------------------------------\")\n",
    "pprint(result)"
   ],
   "metadata": {
    "collapsed": false,
    "pycharm": {
     "name": "#%%\n"
    }
   }
  },
  {
   "cell_type": "code",
   "execution_count": 9,
   "metadata": {
    "pycharm": {
     "name": "#%%\n"
    }
   },
   "outputs": [
    {
     "data": {
      "text/plain": "['জানুয়ারী']"
     },
     "execution_count": 9,
     "metadata": {},
     "output_type": "execute_result"
    }
   ],
   "source": [
    "s1 = \"মেঝদাদা বাড়ি যায়\"\n",
    "s2 = \"মেঝদাদা বাড়ি যায়\"\n",
    "\n",
    "s1 == s2\n",
    "bengali_analyzer.numeric_analyzer.months"
   ]
  },
  {
   "cell_type": "code",
   "execution_count": 11,
   "outputs": [
    {
     "data": {
      "text/plain": "'বার'"
     },
     "execution_count": 11,
     "metadata": {},
     "output_type": "execute_result"
    }
   ],
   "source": [
    "import unicodedata\n",
    "NORMALIZATION_FORM = \"NFC\"\n",
    "sentence = unicodedata.normalize(NORMALIZATION_FORM, bengali_analyzer.numeric_analyzer.numerical_suffix[0])\n",
    "sentence"
   ],
   "metadata": {
    "collapsed": false,
    "pycharm": {
     "name": "#%%\n"
    }
   }
  }
 ],
 "metadata": {
  "interpreter": {
   "hash": "e1fbde2f804935e4d9a4731616b4037e0527777a7f4d5b5a748ec12556269431"
  },
  "kernelspec": {
   "display_name": "Python 3.8.12 ('base')",
   "language": "python",
   "name": "python3"
  },
  "language_info": {
   "codemirror_mode": {
    "name": "ipython",
    "version": 3
   },
   "file_extension": ".py",
   "mimetype": "text/x-python",
   "name": "python",
   "nbconvert_exporter": "python",
   "pygments_lexer": "ipython3",
   "version": "3.8.12"
  },
  "orig_nbformat": 4
 },
 "nbformat": 4,
 "nbformat_minor": 2
}
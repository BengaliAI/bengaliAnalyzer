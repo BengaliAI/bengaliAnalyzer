{
 "cells": [
  {
   "cell_type": "code",
   "execution_count": 1,
   "metadata": {},
   "outputs": [],
   "source": [
    "import json\n",
    "from src.bengali_analyzer.bengalianalyzer import *\n",
    "\n",
    "bengali_analyzer = BengaliAnalyzer()"
   ]
  },
  {
   "cell_type": "code",
   "execution_count": 2,
   "metadata": {},
   "outputs": [],
   "source": [
    "ENCODING = \"utf-8\"\n",
    "LOG_FILE_NAME = \"info.json\"\n",
    "LOG_FILE_LOCATION = \"./\" + LOG_FILE_NAME\n",
    "\n",
    "def serialize_sets(obj):\n",
    "    if isinstance(obj, set):\n",
    "        return list(obj)\n",
    "    return obj\n",
    "\n",
    "def updateLog(text):\n",
    "    with open(LOG_FILE_LOCATION, \"w\", encoding=ENCODING) as f:\n",
    "        json.dump(text, f, ensure_ascii=False, default=serialize_sets, indent=4)"
   ]
  },
  {
   "cell_type": "code",
   "execution_count": 4,
   "metadata": {},
   "outputs": [],
   "source": [
    "# sentence = 'থাকবে আউলাই শুনতে থাকবে আউলানো'\n",
    "# sentence = 'থাকবে আউলাই শুনতেই থাকবে আউলানো'\n",
    "# sentence = 'আমার কথা শুনতে শুনতে তুমি ঢাকায় থাকবে'\n",
    "# sentence = 'আমার কথা শুনতেই শুনতেই তুমি ঢাকায় থাকবেও দেও'\n",
    "# sentence = \"আমি ভাত খাবই\"\n",
    "# sentence = \"আমি শুনতেই থাকবই\"\n",
    "# sentence = \"ঘুড়ি ওড়াই\"\n",
    "# sentence = \"বড় দাদা ঘুড়ি উড়াই\"\n",
    "\n",
    "# sentence = \"জামালকে জামাল গঘরজামাই\"\n",
    "\n",
    "# sentence = \"শুনতে থাকবে\"\n",
    "\n",
    "# sentence = \"বঙ্গবন্ধু শেখ মুজিব মেডিকেল কলেজ\"\n",
    "\n",
    "sentence = \"ধান খানও\"\n",
    "\n",
    "res = bengali_analyzer.analyze_sentence(sentence)\n",
    "updateLog(res)\n",
    "# res"
   ]
  }
 ],
 "metadata": {
  "interpreter": {
   "hash": "b47640ec1daf6351a50a2ef50da74bad4769d96980e20cb22b699ad5af89322f"
  },
  "kernelspec": {
   "display_name": "Python 3.8.9 ('venv': venv)",
   "language": "python",
   "name": "python3"
  },
  "language_info": {
   "codemirror_mode": {
    "name": "ipython",
    "version": 3
   },
   "file_extension": ".py",
   "mimetype": "text/x-python",
   "name": "python",
   "nbconvert_exporter": "python",
   "pygments_lexer": "ipython3",
   "version": "3.8.9"
  },
  "orig_nbformat": 4
 },
 "nbformat": 4,
 "nbformat_minor": 2
}

{
 "cells": [
  {
   "cell_type": "code",
   "execution_count": 1,
   "metadata": {
    "pycharm": {
     "name": "#%%\n"
    }
   },
   "outputs": [],
   "source": [
    "import json\n",
    "from src.bengali_analyzer.bengalianalyzer import *\n",
    "\n",
    "bengali_analyzer = BengaliAnalyzer()"
   ]
  },
  {
   "cell_type": "code",
   "execution_count": 2,
   "metadata": {
    "pycharm": {
     "name": "#%%\n"
    }
   },
   "outputs": [],
   "source": [
    "ENCODING = \"utf-8\"\n",
    "LOG_FILE_NAME = \"info.json\"\n",
    "LOG_FILE_LOCATION = \"./\" + LOG_FILE_NAME\n",
    "\n",
    "def serialize_sets(obj):\n",
    "    if isinstance(obj, set):\n",
    "        return list(obj)\n",
    "    return obj\n",
    "\n",
    "def updateLog(text):\n",
    "    with open(LOG_FILE_LOCATION, \"w\", encoding=ENCODING) as f:\n",
    "        json.dump(text, f, ensure_ascii=False, default=serialize_sets, indent=4)"
   ]
  },
  {
   "cell_type": "code",
   "execution_count": 3,
   "metadata": {
    "pycharm": {
     "name": "#%%\n"
    }
   },
   "outputs": [],
   "source": [
    "# sentence = 'থাকবে আউলাই শুনতে থাকবে আউলানো'\n",
    "# sentence = 'থাকবে আউলাই শুনতেই থাকবে আউলানো'\n",
    "# sentence = 'আমার কথা শুনতে শুনতে তুমি ঢাকায় থাকবে'\n",
    "# sentence = 'আমার কথা শুনতেই শুনতেই তুমি ঢাকায় থাকবেও দেও'\n",
    "# sentence = \"আমি ভাত খাবই\"\n",
    "sentence = \"আমি শুনতেই থাকবই\"\n",
    "# sentence = \"ঘুড়ি ওড়াই\"\n",
    "# sentence = \"বড় দাদা ঘুড়ি উড়াই\"\n",
    "\n",
    "# sentence = \"জামালকে জামাল গঘরজামাই\"\n",
    "\n",
    "# sentence = \"শুনতে থাকবে\"\n",
    "\n",
    "# sentence = \"বঙ্গবন্ধু শেখ মুজিব মেডিকেল কলেজ\"\n",
    "\n",
    "# sentence = \"বায়ান্নহাজার\"\n",
    "\n",
    "res = bengali_analyzer.analyze_sentence(sentence)\n",
    "updateLog(res)\n",
    "#res"
   ]
  },
  {
   "cell_type": "code",
   "execution_count": 4,
   "metadata": {
    "pycharm": {
     "name": "#%%\n"
    }
   },
   "outputs": [
    {
     "data": {
      "text/plain": [
       "{'আমি': {'Global_Index': [(0, 2)],\n",
       "  'Punctuation_Flag': False,\n",
       "  'Numeric': {'Digit': None, 'Literal': None, 'Weight': None, 'Suffix': []},\n",
       "  'Verb': {'Parent_Verb': None,\n",
       "   'TPE': None,\n",
       "   'Form': None,\n",
       "   'Related_Indices': []},\n",
       "  'Pronoun': 'Pro.Pers1',\n",
       "  'PoS': None,\n",
       "  'Composite_Word': {'Suffix': None,\n",
       "   'Prefix': None,\n",
       "   'Stand_Alone_Words': set()},\n",
       "  'Special_Entity': {'Definition': None, 'Related_Indices': []}},\n",
       " 'শুনতেই': {'Global_Index': [(4, 9)],\n",
       "  'Punctuation_Flag': False,\n",
       "  'Numeric': {'Digit': None, 'Literal': None, 'Weight': None, 'Suffix': []},\n",
       "  'Verb': {'Parent_Verb': 'শুনা',\n",
       "   'TPE': [{'tense': 'no', 'person': 'tm', 'emphasis': [['ই']]},\n",
       "    {'tense': 'no', 'person': 'tm', 'emphasis': [['ই']]}],\n",
       "   'Form': None,\n",
       "   'Related_Indices': [[(4, 9), (11, 15)]],\n",
       "   'Language_Form': 'standard'},\n",
       "  'Pronoun': None,\n",
       "  'PoS': None,\n",
       "  'Composite_Word': {'Suffix': 'তেই',\n",
       "   'Prefix': None,\n",
       "   'Stand_Alone_Words': {'শুন'}},\n",
       "  'Special_Entity': {'Definition': None, 'Related_Indices': []}},\n",
       " 'থাকবই': {'Global_Index': [(11, 15)],\n",
       "  'Punctuation_Flag': False,\n",
       "  'Numeric': {'Digit': None, 'Literal': None, 'Weight': None, 'Suffix': []},\n",
       "  'Verb': {'Parent_Verb': 'থাকা',\n",
       "   'TPE': [{'tense': 'sv', 'person': 'am', 'emphasis': [['ই']]}],\n",
       "   'Form': None,\n",
       "   'Related_Indices': [[(4, 9), (11, 15)]],\n",
       "   'Language_Form': 'standard'},\n",
       "  'Pronoun': None,\n",
       "  'PoS': None,\n",
       "  'Composite_Word': {'Suffix': None,\n",
       "   'Prefix': None,\n",
       "   'Stand_Alone_Words': {'থাক'}},\n",
       "  'Special_Entity': {'Definition': None, 'Related_Indices': []}}}"
      ]
     },
     "execution_count": 4,
     "metadata": {},
     "output_type": "execute_result"
    }
   ],
   "source": [
    "res"
   ]
  },
  {
   "cell_type": "code",
   "execution_count": 5,
   "metadata": {
    "collapsed": false,
    "pycharm": {
     "name": "#%%\n"
    }
   },
   "outputs": [],
   "source": [
    "# # import\n",
    "# from bnunicodenormalizer import Normalizer\n",
    "# from pprint import pprint\n",
    "# # initialize\n",
    "# bnorm=Normalizer()\n",
    "# # normalize\n",
    "# word = 'েরটাকে'\n",
    "\n",
    "# result=bnorm(word)\n",
    "# print(f\"Non-norm:{word}; Norm:{result['normalized']}\")\n",
    "# print(\"--------------------------------------------------\")\n",
    "# pprint(result)"
   ]
  },
  {
   "cell_type": "code",
   "execution_count": 6,
   "metadata": {
    "pycharm": {
     "name": "#%%\n"
    }
   },
   "outputs": [],
   "source": [
    "# s1 = \"মেঝদাদা বাড়ি যায়\"\n",
    "# s2 = \"মেঝদাদা বাড়ি যায়\"\n",
    "\n",
    "# s1 == s2\n",
    "# bengali_analyzer.numeric_analyzer.months"
   ]
  },
  {
   "cell_type": "code",
   "execution_count": 7,
   "metadata": {
    "collapsed": false,
    "pycharm": {
     "name": "#%%\n"
    }
   },
   "outputs": [],
   "source": [
    "# import unicodedata\n",
    "# NORMALIZATION_FORM = \"NFD\"\n",
    "# sentence = unicodedata.normalize(NORMALIZATION_FORM, \"বায়ান্ন\")"
   ]
  },
  {
   "cell_type": "code",
   "execution_count": 8,
   "metadata": {
    "collapsed": false,
    "pycharm": {
     "name": "#%%\n"
    }
   },
   "outputs": [],
   "source": [
    "# result2 = bnorm(sentence)\n"
   ]
  },
  {
   "cell_type": "code",
   "execution_count": 9,
   "metadata": {
    "collapsed": false,
    "pycharm": {
     "name": "#%%\n"
    }
   },
   "outputs": [],
   "source": [
    "# [c for c in sentence]"
   ]
  },
  {
   "cell_type": "code",
   "execution_count": 10,
   "metadata": {
    "collapsed": false,
    "pycharm": {
     "name": "#%%\n"
    }
   },
   "outputs": [],
   "source": [
    "# result['normalized'] == result2['normalized']"
   ]
  },
  {
   "cell_type": "code",
   "execution_count": 11,
   "metadata": {
    "collapsed": false,
    "pycharm": {
     "name": "#%%\n"
    }
   },
   "outputs": [],
   "source": [
    "# \"\".join(['ত', '্', '\\u200d'])\n"
   ]
  }
 ],
 "metadata": {
  "interpreter": {
   "hash": "b47640ec1daf6351a50a2ef50da74bad4769d96980e20cb22b699ad5af89322f"
  },
  "kernelspec": {
   "display_name": "Python 3.8.9 ('venv': venv)",
   "language": "python",
   "name": "python3"
  },
  "language_info": {
   "codemirror_mode": {
    "name": "ipython",
    "version": 3
   },
   "file_extension": ".py",
   "mimetype": "text/x-python",
   "name": "python",
   "nbconvert_exporter": "python",
   "pygments_lexer": "ipython3",
   "version": "3.8.9"
  },
  "orig_nbformat": 4
 },
 "nbformat": 4,
 "nbformat_minor": 2
}

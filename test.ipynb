{
 "cells": [
  {
   "cell_type": "code",
   "execution_count": 1,
   "metadata": {
    "pycharm": {
     "name": "#%%\n"
    }
   },
   "outputs": [],
   "source": [
    "import json\n",
    "from src.bengali_analyzer.bengalianalyzer import *\n",
    "\n",
    "bengali_analyzer = BengaliAnalyzer()"
   ]
  },
  {
   "cell_type": "code",
   "execution_count": 2,
   "metadata": {
    "pycharm": {
     "name": "#%%\n"
    }
   },
   "outputs": [],
   "source": [
    "ENCODING = \"utf-8\"\n",
    "LOG_FILE_NAME = \"info.json\"\n",
    "LOG_FILE_LOCATION = \"./\" + LOG_FILE_NAME\n",
    "\n",
    "def serialize_sets(obj):\n",
    "    if isinstance(obj, set):\n",
    "        return list(obj)\n",
    "    return obj\n",
    "\n",
    "def updateLog(text):\n",
    "    with open(LOG_FILE_LOCATION, \"w\", encoding=ENCODING) as f:\n",
    "        json.dump(text, f, ensure_ascii=False, default=serialize_sets, indent=4)"
   ]
  },
  {
   "cell_type": "code",
   "execution_count": 24,
   "metadata": {
    "pycharm": {
     "name": "#%%\n"
    }
   },
   "outputs": [],
   "source": [
    "# sentence = 'থাকবে আউলাই শুনতে থাকবে আউলানো'\n",
    "# sentence = 'থাকবে আউলাই শুনতেই থাকবে আউলানো'\n",
    "# sentence = 'আমার কথা শুনতে শুনতে তুমি ঢাকায় থাকবে'\n",
    "# sentence = 'আমার কথা শুনতেই শুনতেই তুমি ঢাকায় থাকবেও দেও'\n",
    "# sentence = \"আমি ভাত খাবই\"\n",
    "# sentence = \"আমি শুনতেই থাকবই\"\n",
    "# sentence = \"ঘুড়ি ওড়াই\"\n",
    "# sentence = \"বড় দাদা ঘুড়ি উড়াই\"\n",
    "\n",
    "# sentence = \"জামালকে জামাল গঘরজামাই\"\n",
    "\n",
    "# sentence = \"শুনতে থাকবে\"\n",
    "\n",
    "# sentence = \"বঙ্গবন্ধু শেখ মুজিব মেডিকেল কলেজ\"\n",
    "\n",
    "sentence = \"হাত দাও\"\n",
    "\n",
    "res = bengali_analyzer.analyze_sentence(sentence)\n",
    "updateLog(res)\n",
    "#res"
   ]
  },
  {
   "cell_type": "code",
   "execution_count": 25,
   "metadata": {
    "pycharm": {
     "name": "#%%\n"
    }
   },
   "outputs": [
    {
     "data": {
      "text/plain": "{'হাত': {'Global_Index': [(0, 2)],\n  'Punctuation_Flag': False,\n  'Numeric': {'Digit': None, 'Literal': None, 'Weight': None, 'Suffix': []},\n  'Verb': {'Parent_Verb': None,\n   'Tense_Person_Emphasis': None,\n   'Tense': None,\n   'Person': None,\n   'Emphasis': None,\n   'Form': None,\n   'Related_Indices': []},\n  'Pronoun': None,\n  'PoS': None,\n  'Composite_Word': {'Suffix': None,\n   'Prefix': None,\n   'Stand_Alone_Words': set()},\n  'Special_Entity': {'Definition': None, 'Related_Indices': [(0, 2)]},\n  'Non_Verb': 'বিশেষ্য'},\n 'দেও': {'Global_Index': [(4, 6)],\n  'Punctuation_Flag': False,\n  'Numeric': {'Digit': None, 'Literal': None, 'Weight': None, 'Suffix': []},\n  'Verb': {'Parent_Verb': 'দেওয়া',\n   'Tense_Person_Emphasis': [('বর্তমান অনুজ্ঞা', 'তুই/তোরা', ['ও'])],\n   'Tense': 'বর্তমান অনুজ্ঞা',\n   'Person': 'তুই/তোরা',\n   'Emphasis': ['ও'],\n   'Form': None,\n   'Related_Indices': [],\n   'Language_Form': 'standard'},\n  'Pronoun': None,\n  'PoS': None,\n  'Composite_Word': {'Suffix': None,\n   'Prefix': None,\n   'Stand_Alone_Words': set()},\n  'Special_Entity': {'Definition': None, 'Related_Indices': []},\n  'Non_Verb': 'ক্রিয়া'}}"
     },
     "execution_count": 25,
     "metadata": {},
     "output_type": "execute_result"
    }
   ],
   "source": [
    "res\n"
   ]
  },
  {
   "cell_type": "code",
   "execution_count": 21,
   "outputs": [
    {
     "name": "stdout",
     "output_type": "stream",
     "text": [
      "Non-norm:েরটাকে; Norm:রটাকে\n",
      "--------------------------------------------------\n",
      "{'given': 'েরটাকে',\n",
      " 'normalized': 'রটাকে',\n",
      " 'ops': [{'after': 'রটাকে', 'before': 'েরটাকে', 'operation': 'InvalidUnicode'}]}\n"
     ]
    }
   ],
   "source": [
    "# import\n",
    "from bnunicodenormalizer import Normalizer\n",
    "from pprint import pprint\n",
    "# initialize\n",
    "bnorm=Normalizer()\n",
    "# normalize\n",
    "word = 'েরটাকে'\n",
    "\n",
    "result=bnorm(word)\n",
    "print(f\"Non-norm:{word}; Norm:{result['normalized']}\")\n",
    "print(\"--------------------------------------------------\")\n",
    "pprint(result)"
   ],
   "metadata": {
    "collapsed": false,
    "pycharm": {
     "name": "#%%\n"
    }
   }
  },
  {
   "cell_type": "code",
   "execution_count": 6,
   "metadata": {
    "pycharm": {
     "name": "#%%\n"
    }
   },
   "outputs": [
    {
     "data": {
      "text/plain": "['জানুয়ারী']"
     },
     "execution_count": 6,
     "metadata": {},
     "output_type": "execute_result"
    }
   ],
   "source": [
    "s1 = \"মেঝদাদা বাড়ি যায়\"\n",
    "s2 = \"মেঝদাদা বাড়ি যায়\"\n",
    "\n",
    "s1 == s2\n",
    "bengali_analyzer.numeric_analyzer.months"
   ]
  },
  {
   "cell_type": "code",
   "execution_count": 16,
   "outputs": [],
   "source": [
    "import unicodedata\n",
    "NORMALIZATION_FORM = \"NFD\"\n",
    "sentence = unicodedata.normalize(NORMALIZATION_FORM, \"বায়ান্ন\")"
   ],
   "metadata": {
    "collapsed": false,
    "pycharm": {
     "name": "#%%\n"
    }
   }
  },
  {
   "cell_type": "code",
   "execution_count": 18,
   "outputs": [],
   "source": [
    "result2 = bnorm(sentence)\n"
   ],
   "metadata": {
    "collapsed": false,
    "pycharm": {
     "name": "#%%\n"
    }
   }
  },
  {
   "cell_type": "code",
   "execution_count": 8,
   "outputs": [
    {
     "data": {
      "text/plain": "['ব', 'া', 'য', '়', 'া', 'ন', '্', 'ন']"
     },
     "execution_count": 8,
     "metadata": {},
     "output_type": "execute_result"
    }
   ],
   "source": [
    "[c for c in sentence]"
   ],
   "metadata": {
    "collapsed": false,
    "pycharm": {
     "name": "#%%\n"
    }
   }
  },
  {
   "cell_type": "code",
   "execution_count": 19,
   "outputs": [
    {
     "data": {
      "text/plain": "True"
     },
     "execution_count": 19,
     "metadata": {},
     "output_type": "execute_result"
    }
   ],
   "source": [
    "result['normalized'] == result2['normalized']"
   ],
   "metadata": {
    "collapsed": false,
    "pycharm": {
     "name": "#%%\n"
    }
   }
  },
  {
   "cell_type": "code",
   "execution_count": 20,
   "outputs": [
    {
     "data": {
      "text/plain": "'ত্\\u200d'"
     },
     "execution_count": 20,
     "metadata": {},
     "output_type": "execute_result"
    }
   ],
   "source": [
    "\"\".join(['ত', '্', '\\u200d'])\n"
   ],
   "metadata": {
    "collapsed": false,
    "pycharm": {
     "name": "#%%\n"
    }
   }
  }
 ],
 "metadata": {
  "interpreter": {
   "hash": "e1fbde2f804935e4d9a4731616b4037e0527777a7f4d5b5a748ec12556269431"
  },
  "kernelspec": {
   "display_name": "Python 3.8.12 ('base')",
   "language": "python",
   "name": "python3"
  },
  "language_info": {
   "codemirror_mode": {
    "name": "ipython",
    "version": 3
   },
   "file_extension": ".py",
   "mimetype": "text/x-python",
   "name": "python",
   "nbconvert_exporter": "python",
   "pygments_lexer": "ipython3",
   "version": "3.8.12"
  },
  "orig_nbformat": 4
 },
 "nbformat": 4,
 "nbformat_minor": 2
}
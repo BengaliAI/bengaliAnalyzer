{
    "cells": [
        {
            "cell_type": "code",
            "execution_count": 2,
            "metadata": {},
            "outputs": [],
            "source": [
                "import json\n",
                "from src.bengali_analyzer.bengalianalyzer import *\n",
                "\n",
                "bengali_analyzer = BengaliAnalyzer()"
            ]
        },
        {
            "cell_type": "code",
            "execution_count": 3,
            "metadata": {},
            "outputs": [],
            "source": [
                "ENCODING = \"utf-8\"\n",
                "LOG_FILE_NAME = \"info.json\"\n",
                "LOG_FILE_LOCATION = \"./\" + LOG_FILE_NAME\n",
                "RESPONSE_LOCATION = \"./\" + \"response.json\"\n",
                "POS_RESPONSE_LOCATION = \"./\" + \"pos-response.json\""
            ]
        },
        {
            "cell_type": "code",
            "execution_count": 5,
            "metadata": {},
            "outputs": [
                {
                    "data": {
                        "text/plain": [
                            "{'আমি': {'numeric_flag': False,\n",
                            "  'global_index': [[0, 2]],\n",
                            "  'pronoun': {'pronoun_tag': 'Pro.Pers1',\n",
                            "   'number_tag': 'Sing',\n",
                            "   'honorificity': 'None',\n",
                            "   'case': 'direct',\n",
                            "   'proximity': 'None',\n",
                            "   'encoding': 'Pro.Pers1.Sing.Non.dir.Non'},\n",
                            "  'pos': ['pronoun'],\n",
                            "  'composite_flag': False},\n",
                            " 'খাই': {'numeric_flag': False,\n",
                            "  'global_index': [[4, 6]],\n",
                            "  'verb': {'parent_verb': ['খাওয়া'],\n",
                            "   'tp': [{'tense': 'sb', 'person': 'am'}],\n",
                            "   'related_indices': [[4, 6]],\n",
                            "   'language_form': 'standard'},\n",
                            "  'pos': ['ক্রিয়া', 'বিশেষ্য', 'ক্রিয়াবিশেষ্য'],\n",
                            "  'composite_flag': False},\n",
                            " 'খাইনা': {'numeric_flag': False,\n",
                            "  'global_index': [[8, 12]],\n",
                            "  'verb': {'parent_verb': ['খাওয়া'],\n",
                            "   'tp': [{'tense': 'sb', 'person': 'am'}],\n",
                            "   'negation': True,\n",
                            "   'related_indices': [[8, 12]],\n",
                            "   'language_form': 'standard'},\n",
                            "  'pos': ['ক্রিয়া'],\n",
                            "  'composite_flag': False},\n",
                            " 'খাবেনা': {'numeric_flag': False,\n",
                            "  'global_index': [[14, 19]],\n",
                            "  'verb': {'parent_verb': ['খাওয়া'],\n",
                            "   'tp': [{'tense': 'sv', 'person': 'ae'},\n",
                            "    {'tense': 'sv', 'person': 'er'},\n",
                            "    {'tense': 'sv', 'person': 'tm'},\n",
                            "    {'tense': 'vo', 'person': 'tm'}],\n",
                            "   'negation': True,\n",
                            "   'related_indices': [[14, 19]],\n",
                            "   'language_form': 'standard'},\n",
                            "  'pos': ['ক্রিয়া'],\n",
                            "  'composite_flag': False},\n",
                            " 'খাবনা': {'numeric_flag': False,\n",
                            "  'global_index': [[21, 25]],\n",
                            "  'verb': {'parent_verb': ['খাওয়া'],\n",
                            "   'tp': [{'tense': 'sv', 'person': 'am'}],\n",
                            "   'negation': True,\n",
                            "   'related_indices': [[21, 25]],\n",
                            "   'language_form': 'standard'},\n",
                            "  'pos': ['ক্রিয়া'],\n",
                            "  'composite_flag': False},\n",
                            " 'হেলেননি': {'numeric_flag': False,\n",
                            "  'global_index': [[27, 33]],\n",
                            "  'verb': {'parent_verb': ['হেলা'],\n",
                            "   'tp': [{'tense': 'so', 'person': 'ap'}],\n",
                            "   'negation': True,\n",
                            "   'related_indices': [[27, 33]],\n",
                            "   'language_form': 'standard'},\n",
                            "  'pos': ['ক্রিয়া', 'বিশেষ্য', 'বিশেষণ'],\n",
                            "  'composite_flag': False,\n",
                            "  'composite_word': {'stand_alone_words': ['হেলে', 'ননি']}}}"
                        ]
                    },
                    "execution_count": 5,
                    "metadata": {},
                    "output_type": "execute_result"
                }
            ],
            "source": [
                "# sentence = \"অর্থনীতিবিদদের পাইলে।\"\n",
                "# sentence = \"ঢাকা\"\n",
                "# sentence = \"ঢাকা অর্থনীতিবিদদের আঁকিয়া দেয়া উচিত।\"\n",
                "sentence = \"আমি খাই খাইনা খাবেনা খাবনা হেলেননি\"\n",
                "\n",
                "res = bengali_analyzer.analyze_sentence(sentence)\n",
                "with open(RESPONSE_LOCATION, \"w\", encoding=ENCODING) as f:\n",
                "    json.dump(res, f, ensure_ascii=False, default=bengali_analyzer.utils.serializeSets, indent=4)\n",
                "res"
            ]
        },
        {
            "cell_type": "code",
            "execution_count": 9,
            "metadata": {},
            "outputs": [
                {
                    "data": {
                        "text/plain": [
                            "{'আমি': {'pos': ['pronoun']},\n",
                            " 'খাই': {'pos': ['verb', 'adverb', 'noun']},\n",
                            " 'খাইনা': {'pos': ['verb']},\n",
                            " 'খাবেনা': {'pos': ['verb']},\n",
                            " 'খাবনা': {'pos': ['verb']},\n",
                            " 'হেলেননি': {'pos': ['adjective', 'verb', 'noun']}}"
                        ]
                    },
                    "execution_count": 9,
                    "metadata": {},
                    "output_type": "execute_result"
                }
            ],
            "source": [
                "sentence = \"তোমাকে দেই\"\n",
                "#sentence = \"ঢাকা\"\n",
                "sentence = \"আমি খাই খাইনা খাবেনা খাবনা হেলেননি\"\n",
                "res = bengali_analyzer.analyze_pos(sentence)\n",
                "with open(POS_RESPONSE_LOCATION, \"w\", encoding=ENCODING) as f:\n",
                "    json.dump(res, f, ensure_ascii=False, default=bengali_analyzer.utils.serializeSets, indent=4)\n",
                "res"
            ]
        },
        {
            "cell_type": "code",
            "execution_count": 7,
            "metadata": {},
            "outputs": [
                {
                    "data": {
                        "text/plain": [
                            "[['আমি'], ['খাওয়া'], ['খাওয়া'], ['খাওয়া'], ['হেলা']]"
                        ]
                    },
                    "execution_count": 7,
                    "metadata": {},
                    "output_type": "execute_result"
                }
            ],
            "source": [
                "sentence = \"২১শে বক বোকাদের একটা ভাল দিন\"\n",
                "sentence = \"অকাল্পনিক\"\n",
                "sentence = \"আমার ফ্যামিলি প্রবলেমের কারণে কুয়েটে পড়াই হবে না কিন্তু টিউশন করে সাপোর্ট লাগবে এজন্য চুয়েট চুজ করা ভুল হবে? খেতে থাকবই খেতে থাকব\"\n",
                "sentence = \"ঢাকার অর্থনীতিবিদদের আঁকিয়া দেয়া উচিত।\"\n",
                "sentence = \"আমি খাই খাইনা খাবনা হেলেননি\"\n",
                "#sentence = \"সুঅর্থনীতিবোকাদের বঙ্গবন্ধু শেখ মুজিবুর রহমানকে ভালোবাসিকে।\"\n",
                "# sentence = \"এটা একটা ভুয়া বাক্য খেতে থাকব\"\n",
                "#sentence = \"খেতে থাকবে থাকবে যেতে থাকবে থাকবে\"\n",
                "\n",
                "# sentence = \"থাকবে খেতে থাকবে,\"\n",
                "\n",
                "\n",
                "# this is for farig vai, without pure_lemmatize argument, or argument with true\n",
                "res = bengali_analyzer.lemmatize_sentence(sentence)\n",
                "\n",
                "# this is for shushmit vai, with pure_lemmatize argument as False\n",
                "# res = bengali_analyzer.lemmatize_sentence(sentence, False)\n",
                "\n",
                "with open(RESPONSE_LOCATION, \"w\", encoding=ENCODING) as f:\n",
                "    json.dump(res, f, ensure_ascii=False, default=bengali_analyzer.utils.serializeSets, indent=4)\n",
                "res"
            ]
        },
        {
            "cell_type": "code",
            "execution_count": 20,
            "metadata": {},
            "outputs": [
                {
                    "data": {
                        "text/plain": [
                            "'অর্থনীতিবিদ ভালা/valo কাজ দেয়ানো উচিত ।'"
                        ]
                    },
                    "execution_count": 20,
                    "metadata": {},
                    "output_type": "execute_result"
                }
            ],
            "source": [
                "str = \" \".join(['অর্থনীতিবিদ', 'ভালা/valo', 'কাজ', 'দেয়ানো', 'উচিত', '।'])\n",
                "str"
            ]
        },
        {
            "cell_type": "code",
            "execution_count": null,
            "metadata": {},
            "outputs": [],
            "source": []
        }
    ],
    "metadata": {
        "kernelspec": {
            "display_name": "Python 3.10.8 ('venv': venv)",
            "language": "python",
            "name": "python3"
        },
        "language_info": {
            "codemirror_mode": {
                "name": "ipython",
                "version": 3
            },
            "file_extension": ".py",
            "mimetype": "text/x-python",
            "name": "python",
            "nbconvert_exporter": "python",
            "pygments_lexer": "ipython3",
            "version": "3.10.8"
        },
        "orig_nbformat": 4,
        "vscode": {
            "interpreter": {
                "hash": "b47640ec1daf6351a50a2ef50da74bad4769d96980e20cb22b699ad5af89322f"
            }
        }
    },
    "nbformat": 4,
    "nbformat_minor": 2
}

{
    "cells": [
        {
            "cell_type": "code",
            "execution_count": 1,
            "metadata": {},
            "outputs": [],
            "source": [
                "import json\n",
                "from src.bengali_analyzer.bengalianalyzer import *\n",
                "\n",
                "bengali_analyzer = BengaliAnalyzer()"
            ]
        },
        {
            "cell_type": "code",
            "execution_count": 2,
            "metadata": {},
            "outputs": [],
            "source": [
                "ENCODING = \"utf-8\"\n",
                "LOG_FILE_NAME = \"info.json\"\n",
                "LOG_FILE_LOCATION = \"./\" + LOG_FILE_NAME\n",
                "RESPONSE_LOCATION = \"./\" + \"response.json\"\n",
                "POS_RESPONSE_LOCATION = \"./\" + \"pos-response.json\""
            ]
        },
        {
            "cell_type": "code",
            "execution_count": 3,
            "metadata": {},
            "outputs": [
                {
                    "data": {
                        "text/plain": [
                            "{'২১শে': {'global_index': [[0, 3]],\n",
                            "  'numeric': {'digit': '২১', 'weight': 'শ', 'suffix': ['ে']},\n",
                            "  'composite_flag': False,\n",
                            "  'special_entity': {'related_indices': [[0, 3], [5, 6], [8, 14]],\n",
                            "   'space_indices': [4, 7]}},\n",
                            " 'বক': {'global_index': [[5, 6]],\n",
                            "  'pos': ['বিশেষ্য'],\n",
                            "  'composite_flag': False,\n",
                            "  'special_entity': {'related_indices': [[0, 3], [5, 6], [8, 14]],\n",
                            "   'space_indices': [4, 7]}},\n",
                            " 'বোকাদের': {'global_index': [[8, 14]],\n",
                            "  'composite_flag': False,\n",
                            "  'special_entity': {'related_indices': [[0, 3], [5, 6], [8, 14]],\n",
                            "   'space_indices': [4, 7],\n",
                            "   'suffix': 'দের'}},\n",
                            " 'একটা': {'global_index': [[16, 19]],\n",
                            "  'numeric': {'literal': 'এক', 'suffix': ['টা']},\n",
                            "  'pronoun': {'pronoun_tag': 'Pro.Indef', 'number_tag': 'Sing'},\n",
                            "  'pos': ['বিশেষণ'],\n",
                            "  'composite_flag': False},\n",
                            " 'ভাল': {'global_index': [[21, 23]],\n",
                            "  'verb': {'parent_verb': ['ভালা'],\n",
                            "   'tp': [{'tense': 'bo', 'person': 'tu'}],\n",
                            "   'related_indices': [[21, 23]],\n",
                            "   'Language_Form': 'standard'},\n",
                            "  'pos': ['বিশেষ্য'],\n",
                            "  'composite_flag': False},\n",
                            " 'দিন': {'global_index': [[25, 27]],\n",
                            "  'verb': {'parent_verb': ['দেওয়া'],\n",
                            "   'tp': [{'tense': 'bo', 'person': 'ap'}],\n",
                            "   'related_indices': [[25, 27]],\n",
                            "   'Language_Form': 'standard'},\n",
                            "  'pos': ['বিশেষ্য'],\n",
                            "  'composite_flag': False,\n",
                            "  'special_entity': {'related_indices': [[25, 27]]}},\n",
                            " '?': {'global_index': [[28, 28]],\n",
                            "  'punctuation_flag': True,\n",
                            "  'pos': ['punc'],\n",
                            "  'composite_flag': False}}"
                        ]
                    },
                    "execution_count": 3,
                    "metadata": {},
                    "output_type": "execute_result"
                }
            ],
            "source": [
                "sentence = \"২১শে বক বোকাদের একটা ভাল দিন?\"\n",
                "\n",
                "res = bengali_analyzer.analyze_sentence(sentence)\n",
                "with open(RESPONSE_LOCATION, \"w\", encoding=ENCODING) as f:\n",
                "    json.dump(res, f, ensure_ascii=False, default=bengali_analyzer.utils.serializeSets, indent=4)\n",
                "res"
            ]
        },
        {
            "cell_type": "code",
            "execution_count": 4,
            "metadata": {},
            "outputs": [
                {
                    "data": {
                        "text/plain": [
                            "{'আমার': {'pos': ['pronoun']},\n",
                            " 'ফযামিলি': {'pos': ['undefined']},\n",
                            " 'প্রবলেমের': {'pos': ['undefined']},\n",
                            " 'কারণে': {'pos': ['undefined']},\n",
                            " 'কুয়েটে': {'pos': ['undefined']},\n",
                            " 'পড়াই': {'pos': ['verb']},\n",
                            " 'হবে': {'pos': ['verb']},\n",
                            " 'না': {'pos': ['conjunction', 'noun']},\n",
                            " 'কিন্তু': {'pos': ['conjunction']},\n",
                            " 'টিউশন': {'pos': ['undefined']},\n",
                            " 'করে': {'pos': ['verb']},\n",
                            " 'সাপোর্ট': {'pos': ['undefined']},\n",
                            " 'লাগবে': {'pos': ['verb']},\n",
                            " 'এজন্য': {'pos': ['conjunction', 'adverb']},\n",
                            " 'চুয়েট': {'pos': ['undefined']},\n",
                            " 'চুজ': {'pos': ['undefined']},\n",
                            " 'করা': {'pos': ['verb']},\n",
                            " 'ভুল': {'pos': ['adjective', 'noun']},\n",
                            " '?': {'pos': ['punctuation']},\n",
                            " 'খেতে থাকবই': {'pos': ['contentative_verb']},\n",
                            " 'খেতে থাকব': {'pos': ['contentative_verb']}}"
                        ]
                    },
                    "execution_count": 4,
                    "metadata": {},
                    "output_type": "execute_result"
                }
            ],
            "source": [
                "sentence = \"২১শে বক বোকাদের একটা ভাল দিন\"\n",
                "sentence = \"অকাল্পনিক\"\n",
                "sentence = \"আমার ফ্যামিলি প্রবলেমের কারণে কুয়েটে পড়াই হবে না কিন্তু টিউশন করে সাপোর্ট লাগবে এজন্য চুয়েট চুজ করা ভুল হবে? খেতে থাকবই খেতে থাকব\"\n",
                "\n",
                "res = bengali_analyzer.analyze_pos(sentence)\n",
                "with open(POS_RESPONSE_LOCATION, \"w\", encoding=ENCODING) as f:\n",
                "    json.dump(res, f, ensure_ascii=False, default=bengali_analyzer.utils.serializeSets, indent=4)\n",
                "res"
            ]
        },
        {
            "cell_type": "code",
            "execution_count": 5,
            "metadata": {},
            "outputs": [],
            "source": [
                "sentence = \"২১শে বক বোকাদের একটা ভাল দিন\"\n",
                "sentence = \"অকাল্পনিক\"\n",
                "sentence = \"আমার ফ্যামিলি প্রবলেমের কারণে কুয়েটে পড়াই হবে না কিন্তু টিউশন করে সাপোর্ট লাগবে এজন্য চুয়েট চুজ করা ভুল হবে? খেতে থাকবই খেতে থাকব\"\n",
                "sentence = \"অর্থনীতিবিদদের ভালো কাজ দেয়া উচিত।\"\n",
                "#sentence = \"সুঅর্থনীতিবোকাদের বঙ্গবন্ধু শেখ মুজিবুর রহমানকে ভালোবাসিকে।\"\n",
                "# sentence = \"এটা একটা ভুয়া বাক্য খেতে থাকব\"\n",
                "#sentence = \"খেতে থাকবে থাকবে যেতে থাকবে থাকবে\"\n",
                "\n",
                "# sentence = \"থাকবে খেতে থাকবে,\"\n",
                "\n",
                "\n",
                "# this is for farig vai, without pure_lemmatize argument, or argument with true\n",
                "res = bengali_analyzer.lemmatize_sentence(sentence)\n",
                "\n",
                "# this is for shushmit vai, with pure_lemmatize argument as False\n",
                "# res = bengali_analyzer.lemmatize_sentence(sentence, False)\n",
                "\n",
                "with open(RESPONSE_LOCATION, \"w\", encoding=ENCODING) as f:\n",
                "    json.dump(res, f, ensure_ascii=False, default=bengali_analyzer.utils.serializeSets, indent=4)\n",
                "res"
            ]
        },
        {
            "cell_type": "code",
            "execution_count": null,
            "metadata": {},
            "outputs": [],
            "source": []
        }
    ],
    "metadata": {
        "kernelspec": {
            "display_name": "Python 3.9.13 64-bit (windows store)",
            "language": "python",
            "name": "python3"
        },
        "language_info": {
            "codemirror_mode": {
                "name": "ipython",
                "version": 3
            },
            "file_extension": ".py",
            "mimetype": "text/x-python",
            "name": "python",
            "nbconvert_exporter": "python",
            "pygments_lexer": "ipython3",
            "version": "3.9.13"
        },
        "orig_nbformat": 4,
        "vscode": {
            "interpreter": {
                "hash": "fe9bfb1c690e82fd1f77bc46af70b96eeac56b0b427891cb2bf522fb77346515"
            }
        }
    },
    "nbformat": 4,
    "nbformat_minor": 2
}

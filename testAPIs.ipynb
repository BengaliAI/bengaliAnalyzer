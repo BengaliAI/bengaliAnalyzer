{
    "cells": [
        {
            "cell_type": "code",
            "execution_count": 1,
            "metadata": {},
            "outputs": [],
            "source": [
                "import json\n",
                "from src.bengali_analyzer.bengalianalyzer import *\n",
                "\n",
                "bengali_analyzer = BengaliAnalyzer()"
            ]
        },
        {
            "cell_type": "code",
            "execution_count": 2,
            "metadata": {},
            "outputs": [],
            "source": [
                "ENCODING = \"utf-8\"\n",
                "LOG_FILE_NAME = \"info.json\"\n",
                "LOG_FILE_LOCATION = \"./\" + LOG_FILE_NAME\n",
                "RESPONSE_LOCATION = \"./\" + \"response.json\""
            ]
        },
        {
            "cell_type": "code",
            "execution_count": 5,
            "metadata": {},
            "outputs": [],
            "source": [
                "sentence = \"২১শে বক বোকাদের একটা ভাল দিন?\"\n",
                "sentence = \"অকাল্পনিক\"\n",
                "sentence = \"আমার ফ্যামিলি প্রবলেমের কারণে কুয়েটে পড়াই হবে না , কিন্তু টিউশন করে সাপোর্ট লাগবে এজন্য চুয়েট চুজ করা ভুল হবে?\"\n",
                "sentence = \"খেতে থাকবে যেতে থাকবে পড়তে থাকবে\"\n",
                "res = bengali_analyzer.analyze_sentence(sentence)\n",
                "with open(RESPONSE_LOCATION, \"w\", encoding=ENCODING) as f:\n",
                "    json.dump(res, f, ensure_ascii=False, default=bengali_analyzer.utils.serializeSets, indent=4)"
            ]
        },
        {
            "cell_type": "code",
            "execution_count": 4,
            "metadata": {},
            "outputs": [
                {
                    "ename": "KeyError",
                    "evalue": "'pos'",
                    "output_type": "error",
                    "traceback": [
                        "\u001b[0;31m---------------------------------------------------------------------------\u001b[0m",
                        "\u001b[0;31mKeyError\u001b[0m                                  Traceback (most recent call last)",
                        "\u001b[1;32m/Users/rakibulranak/Documents/bengaliAnalyzer/testAPIs.ipynb Cell 4'\u001b[0m in \u001b[0;36m<cell line: 5>\u001b[0;34m()\u001b[0m\n\u001b[1;32m      <a href='vscode-notebook-cell:/Users/rakibulranak/Documents/bengaliAnalyzer/testAPIs.ipynb#ch0000003?line=1'>2</a>\u001b[0m sentence \u001b[39m=\u001b[39m \u001b[39m\"\u001b[39m\u001b[39mঅকাল্পনিক\u001b[39m\u001b[39m\"\u001b[39m\n\u001b[1;32m      <a href='vscode-notebook-cell:/Users/rakibulranak/Documents/bengaliAnalyzer/testAPIs.ipynb#ch0000003?line=2'>3</a>\u001b[0m sentence \u001b[39m=\u001b[39m \u001b[39m\"\u001b[39m\u001b[39mআমার ফ্যামিলি প্রবলেমের কারণে কুয়েটে পড়াই হবে না কিন্তু টিউশন করে সাপোর্ট লাগবে এজন্য চুয়েট চুজ করা ভুল হবে? খেতে থাকবই খেতে থাকব\u001b[39m\u001b[39m\"\u001b[39m\n\u001b[0;32m----> <a href='vscode-notebook-cell:/Users/rakibulranak/Documents/bengaliAnalyzer/testAPIs.ipynb#ch0000003?line=4'>5</a>\u001b[0m res \u001b[39m=\u001b[39m bengali_analyzer\u001b[39m.\u001b[39;49manalyze_pos(sentence)\n\u001b[1;32m      <a href='vscode-notebook-cell:/Users/rakibulranak/Documents/bengaliAnalyzer/testAPIs.ipynb#ch0000003?line=5'>6</a>\u001b[0m \u001b[39mwith\u001b[39;00m \u001b[39mopen\u001b[39m(RESPONSE_LOCATION, \u001b[39m\"\u001b[39m\u001b[39mw\u001b[39m\u001b[39m\"\u001b[39m, encoding\u001b[39m=\u001b[39mENCODING) \u001b[39mas\u001b[39;00m f:\n\u001b[1;32m      <a href='vscode-notebook-cell:/Users/rakibulranak/Documents/bengaliAnalyzer/testAPIs.ipynb#ch0000003?line=6'>7</a>\u001b[0m     json\u001b[39m.\u001b[39mdump(res, f, ensure_ascii\u001b[39m=\u001b[39m\u001b[39mFalse\u001b[39;00m, default\u001b[39m=\u001b[39mbengali_analyzer\u001b[39m.\u001b[39mutils\u001b[39m.\u001b[39mserializeSets, indent\u001b[39m=\u001b[39m\u001b[39m4\u001b[39m)\n",
                        "File \u001b[0;32m~/Documents/bengaliAnalyzer/src/bengali_analyzer/bengalianalyzer.py:502\u001b[0m, in \u001b[0;36mBengaliAnalyzer.analyze_pos\u001b[0;34m(self, sentence)\u001b[0m\n\u001b[1;32m    500\u001b[0m \u001b[39melif\u001b[39;00m \u001b[39m\"\u001b[39m\u001b[39mPronoun\u001b[39m\u001b[39m\"\u001b[39m \u001b[39min\u001b[39;00m body:\n\u001b[1;32m    501\u001b[0m     pos \u001b[39m=\u001b[39m [\u001b[39m\"\u001b[39m\u001b[39mPronoun\u001b[39m\u001b[39m\"\u001b[39m]\n\u001b[0;32m--> 502\u001b[0m     \u001b[39mfor\u001b[39;00m p \u001b[39min\u001b[39;00m body[\u001b[39m\"\u001b[39;49m\u001b[39mPoS\u001b[39;49m\u001b[39m\"\u001b[39;49m]:\n\u001b[1;32m    503\u001b[0m         pos\u001b[39m.\u001b[39mappend(bangla_pos_to_english_pos[p])\n\u001b[1;32m    505\u001b[0m \u001b[39melif\u001b[39;00m \u001b[39m\"\u001b[39m\u001b[39mPunctuation_Flag\u001b[39m\u001b[39m\"\u001b[39m \u001b[39min\u001b[39;00m body \u001b[39mand\u001b[39;00m body[\u001b[39m\"\u001b[39m\u001b[39mPunctuation_Flag\u001b[39m\u001b[39m\"\u001b[39m] \u001b[39m==\u001b[39m \u001b[39mTrue\u001b[39;00m:\n",
                        "\u001b[0;31mKeyError\u001b[0m: 'pos'"
                    ]
                }
            ],
            "source": [
                "sentence = \"২১শে বক বোকাদের একটা ভাল দিন\"\n",
                "sentence = \"অকাল্পনিক\"\n",
                "sentence = \"আমার ফ্যামিলি প্রবলেমের কারণে কুয়েটে পড়াই হবে না কিন্তু টিউশন করে সাপোর্ট লাগবে এজন্য চুয়েট চুজ করা ভুল হবে? খেতে থাকবই খেতে থাকব\"\n",
                "\n",
                "res = bengali_analyzer.analyze_pos(sentence)\n",
                "with open(RESPONSE_LOCATION, \"w\", encoding=ENCODING) as f:\n",
                "    json.dump(res, f, ensure_ascii=False, default=bengali_analyzer.utils.serializeSets, indent=4)\n"
            ]
        },
        {
            "cell_type": "code",
            "execution_count": 13,
            "metadata": {},
            "outputs": [],
            "source": [
                "sentence = \"২১শে বক বোকাদের একটা ভাল দিন\"\n",
                "sentence = \"অকাল্পনিক\"\n",
                "sentence = \"আমার ফ্যামিলি প্রবলেমের কারণে কুয়েটে পড়াই হবে না কিন্তু টিউশন করে সাপোর্ট লাগবে এজন্য চুয়েট চুজ করা ভুল হবে? খেতে থাকবই খেতে থাকব\"\n",
                "sentence = \"অর্থনীতিবিদদের ভালো কাজ দেয়া উচিত।\"\n",
                "sentence = \"সুঅর্থনীতিবোকাদের বঙ্গবন্ধু শেখ মুজিবুর রহমানকে ভালোবাসিকে।\"\n",
                "# sentence = \"এটা একটা ভুয়া বাক্য খেতে থাকব\"\n",
                "sentence = \"খেতে থাকবে থাকবে যেতে থাকবে থাকবে\"\n",
                "\n",
                "# sentence = \"থাকবে খেতে থাকবে,\"\n",
                "\n",
                "\n",
                "# this is for farig vai, without pure_lemmatize argument, or argument with true\n",
                "res = bengali_analyzer.lemmatize_sentence(sentence)\n",
                "\n",
                "# this is for shushmit vai, with pure_lemmatize argument as False\n",
                "# res = bengali_analyzer.lemmatize_sentence(sentence, False)\n",
                "\n",
                "with open(RESPONSE_LOCATION, \"w\", encoding=ENCODING) as f:\n",
                "    json.dump(res, f, ensure_ascii=False, default=bengali_analyzer.utils.serializeSets, indent=4)"
            ]
        },
        {
            "cell_type": "code",
            "execution_count": null,
            "metadata": {},
            "outputs": [],
            "source": []
        }
    ],
    "metadata": {
        "kernelspec": {
            "display_name": "Python 3.10.4 ('emon_3.10')",
            "language": "python",
            "name": "python3"
        },
        "language_info": {
            "codemirror_mode": {
                "name": "ipython",
                "version": 3
            },
            "file_extension": ".py",
            "mimetype": "text/x-python",
            "name": "python",
            "nbconvert_exporter": "python",
            "pygments_lexer": "ipython3",
            "version": "3.10.4"
        },
        "orig_nbformat": 4,
        "vscode": {
            "interpreter": {
                "hash": "4852f144978bf7496a641995199486a55c97c99ebe815a00bb5783809cd7e29c"
            }
        }
    },
    "nbformat": 4,
    "nbformat_minor": 2
}

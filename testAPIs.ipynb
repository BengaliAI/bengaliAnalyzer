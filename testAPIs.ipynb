{
    "cells": [
        {
            "cell_type": "code",
            "execution_count": 1,
            "metadata": {},
            "outputs": [
                {
                    "name": "stdout",
                    "output_type": "stream",
                    "text": [
                        "\u001b[33mOne or multiple assets has been changed\n",
                        "Only '*.csv', '*.txt' and '*.json' files will be normalized\n",
                        "\n",
                        "Normalizing those assets, please wait...\u001b[0m\n"
                    ]
                },
                {
                    "name": "stderr",
                    "output_type": "stream",
                    "text": [
                        "100%|██████████| 1/1 [00:03<00:00,  3.19s/it]\n"
                    ]
                },
                {
                    "name": "stdout",
                    "output_type": "stream",
                    "text": [
                        "\u001b[32mNormalization completed 🥳🥳🥳\n",
                        "\u001b[0m\n",
                        "         word parent_word tense person\n",
                        "0     আঁকাইনি        আঁকা    so     am\n",
                        "1     আঁকাওনি        আঁকা    so     tm\n",
                        "2     আঁকাননি        আঁকা    so     ap\n",
                        "3     আঁকাসনি        আঁকা    so     tu\n",
                        "4     আঁকায়নি        আঁকা    so     ae\n",
                        "...       ...         ...   ...    ...\n",
                        "3412  হেলেননি        হেলা    so     ap\n",
                        "3413   হেলেনি        হেলা    so     ae\n",
                        "3414   হেলোনি        হেলা    so     tm\n",
                        "3415    হোসনি        হওয়া    so     tu\n",
                        "3416     হয়নি        হওয়া    so     ae\n",
                        "\n",
                        "[3417 rows x 4 columns]\n",
                        "         word parent_word tense person\n",
                        "0     আঁকাইনি        আঁকা    so     am\n",
                        "1     আঁকাওনি        আঁকা    so     tm\n",
                        "2     আঁকাননি        আঁকা    so     ap\n",
                        "3     আঁকাসনি        আঁকা    so     tu\n",
                        "4     আঁকায়নি        আঁকা    so     ae\n",
                        "...       ...         ...   ...    ...\n",
                        "3412  হেলেননি        হেলা    so     ap\n",
                        "3413   হেলেনি        হেলা    so     ae\n",
                        "3414   হেলোনি        হেলা    so     tm\n",
                        "3415    হোসনি        হওয়া    so     tu\n",
                        "3416     হয়নি        হওয়া    so     ae\n",
                        "\n",
                        "[3417 rows x 4 columns]\n"
                    ]
                }
            ],
            "source": [
                "import json\n",
                "from src.bengali_analyzer.bengalianalyzer import *\n",
                "\n",
                "bengali_analyzer = BengaliAnalyzer()"
            ]
        },
        {
            "cell_type": "code",
            "execution_count": 3,
            "metadata": {},
            "outputs": [],
            "source": [
                "ENCODING = \"utf-8\"\n",
                "LOG_FILE_NAME = \"info.json\"\n",
                "LOG_FILE_LOCATION = \"./\" + LOG_FILE_NAME\n",
                "RESPONSE_LOCATION = \"./\" + \"response.json\"\n",
                "POS_RESPONSE_LOCATION = \"./\" + \"pos-response.json\""
            ]
        },
        {
            "cell_type": "code",
            "execution_count": 21,
            "metadata": {},
            "outputs": [
                {
                    "data": {
                        "text/plain": [
                            "{'ঢাকা': {'numeric_flag': False,\n",
                            "  'global_index': [[0, 3]],\n",
                            "  'verb': {'parent_verb': ['ঢাকানো'],\n",
                            "   'tp': [{'tense': 'bo', 'person': 'tu'}],\n",
                            "   'non_finite': True,\n",
                            "   'related_indices': [[0, 3]],\n",
                            "   'Language_Form': 'standard'},\n",
                            "  'pos': ['ক্রিয়া', 'বিশেষ্য', 'বিশেষণ', 'ক্রিয়াবিশেষ্য'],\n",
                            "  'composite_flag': False},\n",
                            " 'অর্থনীতিবিদদের': {'numeric_flag': False,\n",
                            "  'global_index': [[5, 18]],\n",
                            "  'pos': ['বিশেষ্য'],\n",
                            "  'composite_flag': False,\n",
                            "  'composite_word': {'suffix': 'দের',\n",
                            "   'stand_alone_words': ['অর্থ', 'নীতি', 'বিদ']}},\n",
                            " 'আঁকিয়া': {'numeric_flag': False,\n",
                            "  'global_index': [[20, 25]],\n",
                            "  'verb': {'parent_verb': ['আঁকা'],\n",
                            "   'non_finite': True,\n",
                            "   'related_indices': [[20, 25]],\n",
                            "   'Language_Form': 'standard'},\n",
                            "  'pos': ['ক্রিয়া'],\n",
                            "  'composite_flag': False},\n",
                            " 'দেয়া': {'numeric_flag': False,\n",
                            "  'global_index': [[27, 30]],\n",
                            "  'verb': {'parent_verb': ['দেয়ানো'],\n",
                            "   'tp': [{'tense': 'bo', 'person': 'tu'}],\n",
                            "   'related_indices': [[27, 30]],\n",
                            "   'Language_Form': 'standard'},\n",
                            "  'pos': ['ক্রিয়া', 'বিশেষ্য'],\n",
                            "  'composite_flag': False},\n",
                            " 'উচিত': {'numeric_flag': False,\n",
                            "  'global_index': [[32, 35]],\n",
                            "  'pos': ['বিশেষণ'],\n",
                            "  'composite_flag': False},\n",
                            " '।': {'numeric_flag': False,\n",
                            "  'global_index': [[36, 36]],\n",
                            "  'punctuation_flag': True,\n",
                            "  'pos': ['punc'],\n",
                            "  'composite_flag': False}}"
                        ]
                    },
                    "execution_count": 21,
                    "metadata": {},
                    "output_type": "execute_result"
                }
            ],
            "source": [
                "sentence = \"অর্থনীতিবিদদের পাইলে।\"\n",
                "sentence = \"ঢাকা\"\n",
                "sentence = \"ঢাকা অর্থনীতিবিদদের আঁকিয়া দেয়া উচিত।\"\n",
                "\n",
                "res = bengali_analyzer.analyze_sentence(sentence)\n",
                "with open(RESPONSE_LOCATION, \"w\", encoding=ENCODING) as f:\n",
                "    json.dump(res, f, ensure_ascii=False, default=bengali_analyzer.utils.serializeSets, indent=4)\n",
                "res"
            ]
        },
        {
            "cell_type": "code",
            "execution_count": 23,
            "metadata": {},
            "outputs": [
                {
                    "data": {
                        "text/plain": [
                            "{'তোমাকে': {'pos': ['pronoun']}, 'দেই': {'pos': ['verb', 'adverb']}}"
                        ]
                    },
                    "execution_count": 23,
                    "metadata": {},
                    "output_type": "execute_result"
                }
            ],
            "source": [
                "sentence = \"তোমাকে দেই\"\n",
                "#sentence = \"ঢাকা\"\n",
                "res = bengali_analyzer.analyze_pos(sentence)\n",
                "with open(POS_RESPONSE_LOCATION, \"w\", encoding=ENCODING) as f:\n",
                "    json.dump(res, f, ensure_ascii=False, default=bengali_analyzer.utils.serializeSets, indent=4)\n",
                "res"
            ]
        },
        {
            "cell_type": "code",
            "execution_count": 19,
            "metadata": {},
            "outputs": [
                {
                    "data": {
                        "text/plain": [
                            "[['ঢাকা'], ['অর্থনীতিবিদ'], ['আঁকা'], ['দেয়ানো'], ['উচিত'], ['।']]"
                        ]
                    },
                    "execution_count": 19,
                    "metadata": {},
                    "output_type": "execute_result"
                }
            ],
            "source": [
                "sentence = \"২১শে বক বোকাদের একটা ভাল দিন\"\n",
                "sentence = \"অকাল্পনিক\"\n",
                "sentence = \"আমার ফ্যামিলি প্রবলেমের কারণে কুয়েটে পড়াই হবে না কিন্তু টিউশন করে সাপোর্ট লাগবে এজন্য চুয়েট চুজ করা ভুল হবে? খেতে থাকবই খেতে থাকব\"\n",
                "sentence = \"ঢাকার অর্থনীতিবিদদের আঁকিয়া দেয়া উচিত।\"\n",
                "#sentence = \"সুঅর্থনীতিবোকাদের বঙ্গবন্ধু শেখ মুজিবুর রহমানকে ভালোবাসিকে।\"\n",
                "# sentence = \"এটা একটা ভুয়া বাক্য খেতে থাকব\"\n",
                "#sentence = \"খেতে থাকবে থাকবে যেতে থাকবে থাকবে\"\n",
                "\n",
                "# sentence = \"থাকবে খেতে থাকবে,\"\n",
                "\n",
                "\n",
                "# this is for farig vai, without pure_lemmatize argument, or argument with true\n",
                "res = bengali_analyzer.lemmatize_sentence(sentence)\n",
                "\n",
                "# this is for shushmit vai, with pure_lemmatize argument as False\n",
                "# res = bengali_analyzer.lemmatize_sentence(sentence, False)\n",
                "\n",
                "with open(RESPONSE_LOCATION, \"w\", encoding=ENCODING) as f:\n",
                "    json.dump(res, f, ensure_ascii=False, default=bengali_analyzer.utils.serializeSets, indent=4)\n",
                "res"
            ]
        },
        {
            "cell_type": "code",
            "execution_count": 20,
            "metadata": {},
            "outputs": [
                {
                    "data": {
                        "text/plain": [
                            "'অর্থনীতিবিদ ভালা/valo কাজ দেয়ানো উচিত ।'"
                        ]
                    },
                    "execution_count": 20,
                    "metadata": {},
                    "output_type": "execute_result"
                }
            ],
            "source": [
                "str = \" \".join(['অর্থনীতিবিদ', 'ভালা/valo', 'কাজ', 'দেয়ানো', 'উচিত', '।'])\n",
                "str"
            ]
        },
        {
            "cell_type": "code",
            "execution_count": null,
            "metadata": {},
            "outputs": [],
            "source": []
        }
    ],
    "metadata": {
        "kernelspec": {
            "display_name": "Python 3.8.12 ('base')",
            "language": "python",
            "name": "python3"
        },
        "language_info": {
            "codemirror_mode": {
                "name": "ipython",
                "version": 3
            },
            "file_extension": ".py",
            "mimetype": "text/x-python",
            "name": "python",
            "nbconvert_exporter": "python",
            "pygments_lexer": "ipython3",
            "version": "3.8.12"
        },
        "orig_nbformat": 4,
        "vscode": {
            "interpreter": {
                "hash": "e1fbde2f804935e4d9a4731616b4037e0527777a7f4d5b5a748ec12556269431"
            }
        }
    },
    "nbformat": 4,
    "nbformat_minor": 2
}

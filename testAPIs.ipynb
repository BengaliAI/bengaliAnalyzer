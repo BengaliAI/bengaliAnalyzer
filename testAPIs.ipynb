{
 "cells": [
  {
   "cell_type": "code",
   "execution_count": 1,
   "metadata": {},
   "outputs": [],
   "source": [
    "import json\n",
    "from src.bengali_analyzer.bengalianalyzer import *\n",
    "\n",
    "bengali_analyzer = BengaliAnalyzer()"
   ]
  },
  {
   "cell_type": "code",
   "execution_count": 2,
   "metadata": {},
   "outputs": [],
   "source": [
    "ENCODING = \"utf-8\"\n",
    "LOG_FILE_NAME = \"info.json\"\n",
    "LOG_FILE_LOCATION = \"./\" + LOG_FILE_NAME\n",
    "RESPONSE_LOCATION = \"./\" + \"response.json\""
   ]
  },
  {
   "cell_type": "code",
   "execution_count": 3,
   "metadata": {},
   "outputs": [],
   "source": [
    "sentence = \"২১শে বক বোকাদের একটা ভাল দিন?\"\n",
    "sentence = \"অকাল্পনিক\"\n",
    "sentence = \"আমার ফ্যামিলি প্রবলেমের কারণে কুয়েটে পড়াই হবে না কিন্তু টিউশন করে সাপোর্ট লাগবে এজন্য চুয়েট চুজ করা ভুল হবে?\"\n",
    "\n",
    "res = bengali_analyzer.analyze_sentence(sentence)\n",
    "with open(RESPONSE_LOCATION, \"w\", encoding=ENCODING) as f:\n",
    "    json.dump(res, f, ensure_ascii=False, default=bengali_analyzer.utils.serializeSets, indent=4)"
   ]
  },
  {
   "cell_type": "code",
   "execution_count": 4,
   "metadata": {},
   "outputs": [],
   "source": [
    "sentence = \"২১শে বক বোকাদের একটা ভাল দিন\"\n",
    "sentence = \"অকাল্পনিক\"\n",
    "sentence = \"আমার ফ্যামিলি প্রবলেমের কারণে কুয়েটে পড়াই হবে না কিন্তু টিউশন করে সাপোর্ট লাগবে এজন্য চুয়েট চুজ করা ভুল হবে?\"\n",
    "\n",
    "res = bengali_analyzer.analyze_pos(sentence)\n",
    "with open(RESPONSE_LOCATION, \"w\", encoding=ENCODING) as f:\n",
    "    json.dump(res, f, ensure_ascii=False, default=bengali_analyzer.utils.serializeSets, indent=4)\n"
   ]
  },
  {
   "cell_type": "code",
   "execution_count": 11,
   "metadata": {},
   "outputs": [],
   "source": [
    "# sentence = \"২১শে বক বোকাদের একটা ভাল দিন?\"\n",
    "# sentence = \"অকাল্পনিক\"\n",
    "sentence = \"আমার ফ্যামিলি প্রবলেমের কারণে কুয়েটে পড়াই হবে না কিন্তু অনতিবিলম্বে টিউশন করে সাপোর্ট লাগবে এজন্য চুয়েট চুজ করা ভুল হবে? আমিও ভাত মাখাইয়াই খেতে থাকব, পড়াইয়া যেও তুমি\"\n",
    "\n",
    "res = bengali_analyzer.lemmatize_sentence(sentence)\n",
    "with open(RESPONSE_LOCATION, \"w\", encoding=ENCODING) as f:\n",
    "    json.dump(res, f, ensure_ascii=False, default=bengali_analyzer.utils.serializeSets, indent=4)\n"
   ]
  },
  {
   "cell_type": "code",
   "execution_count": null,
   "metadata": {},
   "outputs": [],
   "source": []
  }
 ],
 "metadata": {
  "kernelspec": {
   "display_name": "Python 3.10.4 ('emon_3.10')",
   "language": "python",
   "name": "python3"
  },
  "language_info": {
   "codemirror_mode": {
    "name": "ipython",
    "version": 3
   },
   "file_extension": ".py",
   "mimetype": "text/x-python",
   "name": "python",
   "nbconvert_exporter": "python",
   "pygments_lexer": "ipython3",
   "version": "3.10.4"
  },
  "orig_nbformat": 4,
  "vscode": {
   "interpreter": {
    "hash": "4852f144978bf7496a641995199486a55c97c99ebe815a00bb5783809cd7e29c"
   }
  }
 },
 "nbformat": 4,
 "nbformat_minor": 2
}

{
    "cells": [
        {
            "cell_type": "code",
            "execution_count": 7,
            "metadata": {},
            "outputs": [],
            "source": [
                "import json\n",
                "from src.bengali_analyzer.bengalianalyzer import *\n",
                "\n",
                "bengali_analyzer = BengaliAnalyzer()"
            ]
        },
        {
            "cell_type": "code",
            "execution_count": 8,
            "metadata": {},
            "outputs": [],
            "source": [
                "ENCODING = \"utf-8\"\n",
                "LOG_FILE_NAME = \"info.json\"\n",
                "LOG_FILE_LOCATION = \"./\" + LOG_FILE_NAME\n",
                "RESPONSE_LOCATION = \"./\" + \"response.json\"\n",
                "POS_RESPONSE_LOCATION = \"./\" + \"pos-response.json\""
            ]
        },
        {
            "cell_type": "code",
            "execution_count": 9,
            "metadata": {},
            "outputs": [
                {
                    "data": {
                        "text/plain": [
                            "{'অর্থনীতিবিদদের': {'numeric_flag': False,\n",
                            "  'global_index': [[0, 13]],\n",
                            "  'pos': ['বিশেষ্য'],\n",
                            "  'composite_flag': False,\n",
                            "  'composite_word': {'suffix': 'দের',\n",
                            "   'stand_alone_words': ['অর্থ', 'নীতি', 'বিদ']}},\n",
                            " 'ভালো': {'numeric_flag': False,\n",
                            "  'global_index': [[15, 18]],\n",
                            "  'verb': {'parent_verb': ['ভালা'],\n",
                            "   'tp': [{'tense': 'bo', 'person': 'tm'}, {'tense': 'sb', 'person': 'tm'}],\n",
                            "   'related_indices': [[15, 18]],\n",
                            "   'Language_Form': 'standard'},\n",
                            "  'pos': ['ক্রিয়া', 'বিশেষ্য', 'বিশেষণ', 'অব্যয়'],\n",
                            "  'composite_flag': False},\n",
                            " 'কাজ': {'numeric_flag': False,\n",
                            "  'global_index': [[20, 22]],\n",
                            "  'pos': ['বিশেষ্য'],\n",
                            "  'composite_flag': False},\n",
                            " 'দেয়া': {'numeric_flag': False,\n",
                            "  'global_index': [[24, 27]],\n",
                            "  'verb': {'parent_verb': ['দেয়ানো'],\n",
                            "   'tp': [{'tense': 'bo', 'person': 'tu'}],\n",
                            "   'related_indices': [[24, 27]],\n",
                            "   'Language_Form': 'standard'},\n",
                            "  'pos': ['ক্রিয়া', 'বিশেষ্য'],\n",
                            "  'composite_flag': False},\n",
                            " 'উচিত': {'numeric_flag': False,\n",
                            "  'global_index': [[29, 32]],\n",
                            "  'pos': ['বিশেষণ'],\n",
                            "  'composite_flag': False},\n",
                            " '।': {'numeric_flag': False,\n",
                            "  'global_index': [[33, 33]],\n",
                            "  'punctuation_flag': True,\n",
                            "  'pos': ['punc'],\n",
                            "  'composite_flag': False}}"
                        ]
                    },
                    "execution_count": 9,
                    "metadata": {},
                    "output_type": "execute_result"
                }
            ],
            "source": [
                "sentence = \"অর্থনীতিবিদদের ভালো কাজ দেয়া উচিত।\"\n",
                "\n",
                "res = bengali_analyzer.analyze_sentence(sentence)\n",
                "with open(RESPONSE_LOCATION, \"w\", encoding=ENCODING) as f:\n",
                "    json.dump(res, f, ensure_ascii=False, default=bengali_analyzer.utils.serializeSets, indent=4)\n",
                "res"
            ]
        },
        {
            "cell_type": "code",
            "execution_count": 10,
            "metadata": {},
            "outputs": [
                {
                    "data": {
                        "text/plain": [
                            "{'অর্থনীতিবিদদের': {'pos': ['noun']},\n",
                            " 'ভালো': {'pos': ['verb', 'conjunction', 'noun', 'adjective']},\n",
                            " 'কাজ': {'pos': ['noun']},\n",
                            " 'দেয়া': {'pos': ['verb', 'noun']},\n",
                            " 'উচিত': {'pos': ['adjective']},\n",
                            " '।': {'pos': ['punctuation']}}"
                        ]
                    },
                    "execution_count": 10,
                    "metadata": {},
                    "output_type": "execute_result"
                }
            ],
            "source": [
                "sentence = \"অর্থনীতিবিদদের ভালো কাজ দেয়া উচিত।\"\n",
                "\n",
                "res = bengali_analyzer.analyze_pos(sentence)\n",
                "with open(POS_RESPONSE_LOCATION, \"w\", encoding=ENCODING) as f:\n",
                "    json.dump(res, f, ensure_ascii=False, default=bengali_analyzer.utils.serializeSets, indent=4)\n",
                "res"
            ]
        },
        {
            "cell_type": "code",
            "execution_count": 11,
            "metadata": {},
            "outputs": [
                {
                    "data": {
                        "text/plain": [
                            "[['অর্থনীতিবিদ'], ['ভালা'], ['কাজ'], ['দেয়ানো'], ['উচিত'], ['।']]"
                        ]
                    },
                    "execution_count": 11,
                    "metadata": {},
                    "output_type": "execute_result"
                }
            ],
            "source": [
                "sentence = \"২১শে বক বোকাদের একটা ভাল দিন\"\n",
                "sentence = \"অকাল্পনিক\"\n",
                "sentence = \"আমার ফ্যামিলি প্রবলেমের কারণে কুয়েটে পড়াই হবে না কিন্তু টিউশন করে সাপোর্ট লাগবে এজন্য চুয়েট চুজ করা ভুল হবে? খেতে থাকবই খেতে থাকব\"\n",
                "sentence = \"অর্থনীতিবিদদের ভালো কাজ দেয়া উচিত।\"\n",
                "#sentence = \"সুঅর্থনীতিবোকাদের বঙ্গবন্ধু শেখ মুজিবুর রহমানকে ভালোবাসিকে।\"\n",
                "# sentence = \"এটা একটা ভুয়া বাক্য খেতে থাকব\"\n",
                "#sentence = \"খেতে থাকবে থাকবে যেতে থাকবে থাকবে\"\n",
                "\n",
                "# sentence = \"থাকবে খেতে থাকবে,\"\n",
                "\n",
                "\n",
                "# this is for farig vai, without pure_lemmatize argument, or argument with true\n",
                "res = bengali_analyzer.lemmatize_sentence(sentence)\n",
                "\n",
                "# this is for shushmit vai, with pure_lemmatize argument as False\n",
                "# res = bengali_analyzer.lemmatize_sentence(sentence, False)\n",
                "\n",
                "with open(RESPONSE_LOCATION, \"w\", encoding=ENCODING) as f:\n",
                "    json.dump(res, f, ensure_ascii=False, default=bengali_analyzer.utils.serializeSets, indent=4)\n",
                "res"
            ]
        },
        {
            "cell_type": "code",
            "execution_count": 12,
            "metadata": {},
            "outputs": [
                {
                    "data": {
                        "text/plain": [
                            "'অর্থনীতিবিদ ভালা/valo কাজ দেয়ানো উচিত ।'"
                        ]
                    },
                    "execution_count": 12,
                    "metadata": {},
                    "output_type": "execute_result"
                }
            ],
            "source": [
                "str = \" \".join(['অর্থনীতিবিদ', 'ভালা/valo', 'কাজ', 'দেয়ানো', 'উচিত', '।'])\n",
                "str"
            ]
        }
    ],
    "metadata": {
        "kernelspec": {
            "display_name": "Python 3.9.12 ('base')",
            "language": "python",
            "name": "python3"
        },
        "language_info": {
            "codemirror_mode": {
                "name": "ipython",
                "version": 3
            },
            "file_extension": ".py",
            "mimetype": "text/x-python",
            "name": "python",
            "nbconvert_exporter": "python",
            "pygments_lexer": "ipython3",
            "version": "3.9.12"
        },
        "orig_nbformat": 4,
        "vscode": {
            "interpreter": {
                "hash": "4969e5d798a64d3d4b86ffb334d8ab2be5534740def3f8caa6da336b43acefc3"
            }
        }
    },
    "nbformat": 4,
    "nbformat_minor": 2
}

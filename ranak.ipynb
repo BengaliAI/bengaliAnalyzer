{
 "cells": [
  {
   "cell_type": "code",
   "execution_count": 1,
   "metadata": {},
   "outputs": [
    {
     "name": "stdout",
     "output_type": "stream",
     "text": [
      "51625\n",
      "51625\n"
     ]
    }
   ],
   "source": [
    "import json\n",
    "from src.bengali_analyzer.bengalianalyzer import *\n",
    "\n",
    "bengali_analyzer = BengaliAnalyzer()"
   ]
  },
  {
   "cell_type": "code",
   "execution_count": 2,
   "metadata": {},
   "outputs": [],
   "source": [
    "ENCODING = \"utf-8\"\n",
    "LOG_FILE_NAME = \"info.json\"\n",
    "LOG_FILE_LOCATION = \"./\" + LOG_FILE_NAME\n",
    "SIMPLE_RESPONSE_LOCATION = \"./\" + \"simpleResponse.json\"\n",
    "\n",
    "def serialize_sets(obj):\n",
    "    if isinstance(obj, set):\n",
    "        return list(obj)\n",
    "    return obj\n",
    "\n",
    "def updateLog(text):\n",
    "    with open(LOG_FILE_LOCATION, \"w\", encoding=ENCODING) as f:\n",
    "        json.dump(text, f, ensure_ascii=False, default=serialize_sets, indent=4)\n",
    "\n",
    "def simplifyJson():\n",
    "    with open(LOG_FILE_LOCATION) as f:\n",
    "        data = json.load(f)\n",
    "    for x in data.copy():\n",
    "        # Numeric\n",
    "        dataNumeric = data[x][\"Numeric\"]\n",
    "        for y in dataNumeric.copy():\n",
    "            if(not dataNumeric[y]):\n",
    "                del(data[x][\"Numeric\"][y])\n",
    "                ok = 1\n",
    "        if(not dataNumeric):\n",
    "            del(data[x][\"Numeric\"])\n",
    "        \n",
    "        # Punctuation\n",
    "        dataPunction = data[x][\"Punctuation_Flag\"]\n",
    "        if(not dataPunction):\n",
    "            del(data[x][\"Punctuation_Flag\"])\n",
    "        # Verb\n",
    "\n",
    "        dataVerb = data[x][\"Verb\"]\n",
    "        for y in dataVerb.copy():\n",
    "            if(not dataVerb[y] or (y=='Emphasizer' and not dataVerb[y][0])):\n",
    "                del(data[x][\"Verb\"][y])\n",
    "                ok = 1\n",
    "        if(not dataVerb):\n",
    "            del(data[x][\"Verb\"])\n",
    "\n",
    "        # Pronoun\n",
    "        dataPronoun = data[x][\"Pronoun\"]\n",
    "        for y in dataPronoun.copy():\n",
    "            if(not dataPronoun[y]):\n",
    "                del(data[x][\"Pronoun\"][y])\n",
    "        if(not dataPronoun):\n",
    "            del(data[x][\"Pronoun\"])\n",
    "\n",
    "        # Pos\n",
    "        if(not data[x][\"PoS\"]):\n",
    "            del(data[x][\"PoS\"])\n",
    "\n",
    "        # Composite Word\n",
    "        dataComposite = data[x][\"Composite_Word\"]\n",
    "        for y in dataComposite.copy():\n",
    "            if(not dataComposite[y]):\n",
    "                del(data[x][\"Composite_Word\"][y])\n",
    "        if(not dataComposite):\n",
    "            del(data[x][\"Composite_Word\"])\n",
    "\n",
    "        # Special Entity\n",
    "        dataSpecial = data[x][\"Special_Entity\"]\n",
    "        for y in dataSpecial.copy():\n",
    "            if(not dataSpecial[y]):\n",
    "                del(data[x][\"Special_Entity\"][y])\n",
    "        if(not dataSpecial):\n",
    "            del(data[x][\"Special_Entity\"])\n",
    "    with open(SIMPLE_RESPONSE_LOCATION, \"w\", encoding=ENCODING) as f:\n",
    "        json.dump(data, f, ensure_ascii=False, default=serialize_sets, indent=4)\n",
    "    return data\n"
   ]
  },
  {
   "cell_type": "code",
   "execution_count": 13,
   "metadata": {},
   "outputs": [
    {
     "name": "stdout",
     "output_type": "stream",
     "text": [
      "[]\n",
      "[]\n"
     ]
    },
    {
     "data": {
      "text/plain": [
       "{'অকাল্পনিক': {'Global_Index': [[0, 8]], 'PoS': ['সর্বনাম']}}"
      ]
     },
     "execution_count": 13,
     "metadata": {},
     "output_type": "execute_result"
    }
   ],
   "source": [
    "sentence = \"২১শে বক বোকাদের একটা ভাল দিন\"\n",
    "sentence = \"অকাল্পনিক\"\n",
    "\n",
    "res = bengali_analyzer.analyze_sentence(sentence)\n",
    "updateLog(res)\n",
    "res = simplifyJson()\n",
    "res\n"
   ]
  },
  {
   "cell_type": "code",
   "execution_count": 8,
   "metadata": {},
   "outputs": [
    {
     "name": "stdout",
     "output_type": "stream",
     "text": [
      "Suffix\n"
     ]
    },
    {
     "data": {
      "text/plain": [
       "True"
      ]
     },
     "execution_count": 8,
     "metadata": {},
     "output_type": "execute_result"
    }
   ],
   "source": [
    "word = \"wordSuffix\"\n",
    "suffix = \"Suffix\"\n",
    "print(word[-len(suffix):])\n",
    "word[:len(word)] == word "
   ]
  },
  {
   "cell_type": "code",
   "execution_count": 9,
   "metadata": {},
   "outputs": [
    {
     "name": "stdout",
     "output_type": "stream",
     "text": [
      "়\n"
     ]
    }
   ],
   "source": [
    "ss =\"নিয়ে\"\n",
    "print(ss[-2])"
   ]
  },
  {
   "cell_type": "code",
   "execution_count": 6,
   "metadata": {},
   "outputs": [
    {
     "name": "stdout",
     "output_type": "stream",
     "text": [
      "['নিয়ে', '', 'বক', '', 'বোকা', '', 'একটা', 'ভাল', 'দিন']\n"
     ]
    }
   ],
   "source": [
    "punctuations = {\n",
    "            \" \",\n",
    "            \".\",\n",
    "            \",\",\n",
    "            \";\",\n",
    "            \":\",\n",
    "            \"!\",\n",
    "            \"?\",\n",
    "            '\"',\n",
    "            \"'\",\n",
    "            \"`\",\n",
    "            \"~\",\n",
    "            \"^\",\n",
    "            \"*\",\n",
    "            \"(\",\n",
    "            \")\",\n",
    "            \"[\",\n",
    "            \"]\",\n",
    "            \"{\",\n",
    "            \"}\",\n",
    "            \"।\",\n",
    "        }\n",
    "\n",
    "sentence = \"নিয়ে, বক: বোকা! একটা ভাল দিন\"\n",
    "punctuation_list = [p for p in punctuations if p in sentence]\n",
    "for x in punctuation_list:\n",
    "    sentence = sentence.replace(x, \"☺\")\n",
    "tokens = sentence.split(\"☺\")\n",
    "print(tokens)"
   ]
  },
  {
   "cell_type": "code",
   "execution_count": null,
   "metadata": {},
   "outputs": [],
   "source": []
  }
 ],
 "metadata": {
  "kernelspec": {
   "display_name": "Python 3.8.12 ('base')",
   "language": "python",
   "name": "python3"
  },
  "language_info": {
   "codemirror_mode": {
    "name": "ipython",
    "version": 3
   },
   "file_extension": ".py",
   "mimetype": "text/x-python",
   "name": "python",
   "nbconvert_exporter": "python",
   "pygments_lexer": "ipython3",
   "version": "3.8.12"
  },
  "orig_nbformat": 4,
  "vscode": {
   "interpreter": {
    "hash": "e1fbde2f804935e4d9a4731616b4037e0527777a7f4d5b5a748ec12556269431"
   }
  }
 },
 "nbformat": 4,
 "nbformat_minor": 2
}

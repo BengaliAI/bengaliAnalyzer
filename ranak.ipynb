{
 "cells": [
  {
   "cell_type": "code",
   "execution_count": 1,
   "metadata": {},
   "outputs": [],
   "source": [
    "import json\n",
    "from src.bengali_analyzer.bengalianalyzer import *\n",
    "\n",
    "bengali_analyzer = BengaliAnalyzer()"
   ]
  },
  {
   "cell_type": "code",
   "execution_count": 2,
   "metadata": {},
   "outputs": [],
   "source": [
    "ENCODING = \"utf-8\"\n",
    "LOG_FILE_NAME = \"info.json\"\n",
    "LOG_FILE_LOCATION = \"./\" + LOG_FILE_NAME\n",
    "SIMPLE_RESPONSE_LOCATION = \"./\" + \"simpleResponse.json\"\n",
    "\n",
    "def serialize_sets(obj):\n",
    "    if isinstance(obj, set):\n",
    "        return list(obj)\n",
    "    return obj\n",
    "\n",
    "def updateLog(text):\n",
    "    with open(LOG_FILE_LOCATION, \"w\", encoding=ENCODING) as f:\n",
    "        json.dump(text, f, ensure_ascii=False, default=serialize_sets, indent=4)\n",
    "\n",
    "def simplifyJson():\n",
    "    with open(LOG_FILE_LOCATION) as f:\n",
    "        data = json.load(f)\n",
    "    for x in data.copy():\n",
    "        # Numeric\n",
    "        dataNumeric = data[x][\"Numeric\"]\n",
    "        for y in dataNumeric.copy():\n",
    "            if(not dataNumeric[y]):\n",
    "                del(data[x][\"Numeric\"][y])\n",
    "                ok = 1\n",
    "        if(not dataNumeric):\n",
    "            del(data[x][\"Numeric\"])\n",
    "        \n",
    "        # Punctuation\n",
    "        dataPunction = data[x][\"Punctuation_Flag\"]\n",
    "        if(not dataPunction):\n",
    "            del(data[x][\"Punctuation_Flag\"])\n",
    "        # Verb\n",
    "\n",
    "        dataVerb = data[x][\"Verb\"]\n",
    "        for y in dataVerb.copy():\n",
    "            if(not dataVerb[y] or (y=='Emphasizer' and not dataVerb[y][0])):\n",
    "                del(data[x][\"Verb\"][y])\n",
    "                ok = 1\n",
    "        if(not dataVerb):\n",
    "            del(data[x][\"Verb\"])\n",
    "\n",
    "        # Pronoun\n",
    "        dataPronoun = data[x][\"Pronoun\"]\n",
    "        for y in dataPronoun.copy():\n",
    "            if(not dataPronoun[y]):\n",
    "                del(data[x][\"Pronoun\"][y])\n",
    "        if(not dataPronoun):\n",
    "            del(data[x][\"Pronoun\"])\n",
    "\n",
    "        # Pos\n",
    "        if(not data[x][\"PoS\"]):\n",
    "            del(data[x][\"PoS\"])\n",
    "\n",
    "        # Composite Word\n",
    "        dataComposite = data[x][\"Composite_Word\"]\n",
    "        for y in dataComposite.copy():\n",
    "            if(not dataComposite[y]):\n",
    "                del(data[x][\"Composite_Word\"][y])\n",
    "        if(not dataComposite):\n",
    "            del(data[x][\"Composite_Word\"])\n",
    "\n",
    "        # Special Entity\n",
    "        dataSpecial = data[x][\"Special_Entity\"]\n",
    "        for y in dataSpecial.copy():\n",
    "            if(not dataSpecial[y]):\n",
    "                del(data[x][\"Special_Entity\"][y])\n",
    "        if(not dataSpecial):\n",
    "            del(data[x][\"Special_Entity\"])\n",
    "    with open(SIMPLE_RESPONSE_LOCATION, \"w\", encoding=ENCODING) as f:\n",
    "        json.dump(data, f, ensure_ascii=False, default=serialize_sets, indent=4)\n",
    "    return data\n"
   ]
  },
  {
   "cell_type": "code",
   "execution_count": 3,
   "metadata": {},
   "outputs": [
    {
     "name": "stdout",
     "output_type": "stream",
     "text": [
      "['২১শে বক বোকা', 'দিন']\n"
     ]
    },
    {
     "ename": "TypeError",
     "evalue": "unhashable type: 'list'",
     "output_type": "error",
     "traceback": [
      "\u001b[1;31m---------------------------------------------------------------------------\u001b[0m",
      "\u001b[1;31mTypeError\u001b[0m                                 Traceback (most recent call last)",
      "\u001b[1;32mc:\\Works\\bengaliAnalyzer\\ranak.ipynb Cell 3'\u001b[0m in \u001b[0;36m<cell line: 3>\u001b[1;34m()\u001b[0m\n\u001b[0;32m      <a href='vscode-notebook-cell:/c%3A/Works/bengaliAnalyzer/ranak.ipynb#ch0000002?line=0'>1</a>\u001b[0m sentence \u001b[39m=\u001b[39m \u001b[39m\"\u001b[39m\u001b[39m২১শে বক বোকা একটা ভাল দিন\u001b[39m\u001b[39m\"\u001b[39m\n\u001b[1;32m----> <a href='vscode-notebook-cell:/c%3A/Works/bengaliAnalyzer/ranak.ipynb#ch0000002?line=2'>3</a>\u001b[0m res \u001b[39m=\u001b[39m bengali_analyzer\u001b[39m.\u001b[39;49manalyze_sentence(sentence)\n\u001b[0;32m      <a href='vscode-notebook-cell:/c%3A/Works/bengaliAnalyzer/ranak.ipynb#ch0000002?line=4'>5</a>\u001b[0m res\n",
      "File \u001b[1;32mc:\\Works\\bengaliAnalyzer\\src\\bengali_analyzer\\bengalianalyzer.py:412\u001b[0m, in \u001b[0;36mBengaliAnalyzer.analyze_sentence\u001b[1;34m(self, sentence)\u001b[0m\n\u001b[0;32m    <a href='file:///c%3A/Works/bengaliAnalyzer/src/bengali_analyzer/bengalianalyzer.py?line=408'>409</a>\u001b[0m non_verb_flags \u001b[39m=\u001b[39m \u001b[39mself\u001b[39m\u001b[39m.\u001b[39mnon_verbs_analyzer\u001b[39m.\u001b[39mget_non_verbs(tokens)\n\u001b[0;32m    <a href='file:///c%3A/Works/bengaliAnalyzer/src/bengali_analyzer/bengalianalyzer.py?line=409'>410</a>\u001b[0m flags\u001b[39m.\u001b[39mextend(non_verb_flags)\n\u001b[1;32m--> <a href='file:///c%3A/Works/bengaliAnalyzer/src/bengali_analyzer/bengalianalyzer.py?line=411'>412</a>\u001b[0m \u001b[39mself\u001b[39;49m\u001b[39m.\u001b[39;49mcomposite_words_analyzer\u001b[39m.\u001b[39;49manalyze_composite_words(tokens, flags)\n\u001b[0;32m    <a href='file:///c%3A/Works/bengaliAnalyzer/src/bengali_analyzer/bengalianalyzer.py?line=413'>414</a>\u001b[0m \u001b[39mreturn\u001b[39;00m tokens\n",
      "File \u001b[1;32mc:\\Works\\bengaliAnalyzer\\src\\bengali_analyzer\\libs\\composite_words.py:92\u001b[0m, in \u001b[0;36mCompositeWordAnalyzer.analyze_composite_words\u001b[1;34m(self, tokens, flags)\u001b[0m\n\u001b[0;32m     <a href='file:///c%3A/Works/bengaliAnalyzer/src/bengali_analyzer/libs/composite_words.py?line=89'>90</a>\u001b[0m \u001b[39mfor\u001b[39;00m word, value \u001b[39min\u001b[39;00m tokens\u001b[39m.\u001b[39mitems():\n\u001b[0;32m     <a href='file:///c%3A/Works/bengaliAnalyzer/src/bengali_analyzer/libs/composite_words.py?line=90'>91</a>\u001b[0m     indices \u001b[39m=\u001b[39m tokens[word][\u001b[39m'\u001b[39m\u001b[39mGlobal_Index\u001b[39m\u001b[39m'\u001b[39m]\n\u001b[1;32m---> <a href='file:///c%3A/Works/bengaliAnalyzer/src/bengali_analyzer/libs/composite_words.py?line=91'>92</a>\u001b[0m     \u001b[39mif\u001b[39;00m \u001b[39mset\u001b[39m(indices)\u001b[39m.\u001b[39misdisjoint(\u001b[39mset\u001b[39;49m(flags)):\n\u001b[0;32m     <a href='file:///c%3A/Works/bengaliAnalyzer/src/bengali_analyzer/libs/composite_words.py?line=92'>93</a>\u001b[0m         \u001b[39mself\u001b[39m\u001b[39m.\u001b[39mgenerate_word_configuration(word, tokens)\n",
      "\u001b[1;31mTypeError\u001b[0m: unhashable type: 'list'"
     ]
    }
   ],
   "source": [
    "sentence = \"২১শে বক বোকাদের একটা ভাল দিন\"\n",
    "\n",
    "res = bengali_analyzer.analyze_sentence(sentence)\n",
    "\n",
    "res\n"
   ]
  },
  {
   "cell_type": "code",
   "execution_count": null,
   "metadata": {},
   "outputs": [
    {
     "name": "stdout",
     "output_type": "stream",
     "text": [
      "Suffix\n"
     ]
    },
    {
     "data": {
      "text/plain": [
       "True"
      ]
     },
     "execution_count": 10,
     "metadata": {},
     "output_type": "execute_result"
    }
   ],
   "source": [
    "word = \"wordSuffix\"\n",
    "suffix = \"Suffix\"\n",
    "print(word[-len(suffix):])\n",
    "word[:len(word)] == word "
   ]
  },
  {
   "cell_type": "code",
   "execution_count": null,
   "metadata": {},
   "outputs": [
    {
     "name": "stdout",
     "output_type": "stream",
     "text": [
      "়\n"
     ]
    }
   ],
   "source": [
    "ss =\"নিয়ে\"\n",
    "print(ss[-2])"
   ]
  },
  {
   "cell_type": "code",
   "execution_count": null,
   "metadata": {},
   "outputs": [
    {
     "name": "stdout",
     "output_type": "stream",
     "text": [
      "['নিয়ে', '', 'বক', '', 'বোকা', '', 'একটা', 'ভাল', 'দিন']\n"
     ]
    }
   ],
   "source": [
    "punctuations = {\n",
    "            \" \",\n",
    "            \".\",\n",
    "            \",\",\n",
    "            \";\",\n",
    "            \":\",\n",
    "            \"!\",\n",
    "            \"?\",\n",
    "            '\"',\n",
    "            \"'\",\n",
    "            \"`\",\n",
    "            \"~\",\n",
    "            \"^\",\n",
    "            \"*\",\n",
    "            \"(\",\n",
    "            \")\",\n",
    "            \"[\",\n",
    "            \"]\",\n",
    "            \"{\",\n",
    "            \"}\",\n",
    "            \"।\",\n",
    "        }\n",
    "\n",
    "sentence = \"নিয়ে, বক: বোকা! একটা ভাল দিন\"\n",
    "punctuation_list = [p for p in punctuations if p in sentence]\n",
    "for x in punctuation_list:\n",
    "    sentence = sentence.replace(x, \"☺\")\n",
    "tokens = sentence.split(\"☺\")\n",
    "print(tokens)"
   ]
  }
 ],
 "metadata": {
  "interpreter": {
   "hash": "24ef542f502a8031eb60ae365402c76e830e684f4359cbfe848c3657583cbb9a"
  },
  "kernelspec": {
   "display_name": "Python 3.9.12 ('base')",
   "language": "python",
   "name": "python3"
  },
  "language_info": {
   "codemirror_mode": {
    "name": "ipython",
    "version": 3
   },
   "file_extension": ".py",
   "mimetype": "text/x-python",
   "name": "python",
   "nbconvert_exporter": "python",
   "pygments_lexer": "ipython3",
   "version": "3.9.12"
  },
  "orig_nbformat": 4
 },
 "nbformat": 4,
 "nbformat_minor": 2
}
